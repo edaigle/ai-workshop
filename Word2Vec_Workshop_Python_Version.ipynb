{
 "cells": [
  {
   "cell_type": "markdown",
   "metadata": {},
   "source": [
    "<h1 align='center'>It Starts with a Research Question...</h1>\n",
    "<img src='Schmidt Fig 1.png' width=\"66%\" height=\"66%\">"
   ]
  },
  {
   "cell_type": "markdown",
   "metadata": {},
   "source": [
    "# Word2Vec\n",
    "\n",
    "This lesson is designed to explore features of word embeddings produced through the word2vec model. The questions we ask in this lesson are guided by Ben Schmidt's blog post <a href = \"http://bookworm.benschmidt.org/posts/2015-10-30-rejecting-the-gender-binary.html\">Rejecting the Gender Binary</a>.\n",
    "\n",
    "The primary corpus we wil use consists of the <a href=\"http://txtlab.org/?p=601\">150 English-language novels</a> made available by the <em>.txtLab</em> at McGill University. We also look at a <a href=\"http://ryanheuser.org/word-vectors-1/\">Word2Vec model trained on the ECCO-TCP corpus</a> of 2,350 eighteenth-century literary texts made available by Ryan Heuser. (Note that the number of terms in the model has been shortened by half in order to conserve memory.)\n",
    "\n",
    "For further technical background on Word2Vec's mechanics, I suggest this <a href=\"https://chromium.googlesource.com/external/github.com/tensorflow/tensorflow/+/refs/heads/0.6.0/tensorflow/g3doc/tutorials/word2vec/index.md\">brief tutorial</a> by Google, especially the sections \"Motivation,\" \"Skip-Gram Model,\" and \"Visualizing.\"\n",
    "\n",
    "### Tutorial Agenda\n",
    "<ul>\n",
    "<li>Vector-Space Model of Language</li>\n",
    "<li>Import & Pre-Processing</li>\n",
    "<li>Word2Vec</li>\n",
    "<ul><li>Training</li>\n",
    "<li>Embeddings</li>\n",
    "<li>Visualization</li>\n",
    "</ul>\n",
    "<li>Saving/Loading Models</li>\n",
    "</ul>\n",
    "<li>Topic Models</li>\n",
    "</ul>"
   ]
  },
  {
   "cell_type": "markdown",
   "metadata": {},
   "source": [
    "# 0. Vector-Space Model of Language\n",
    "In the first day of this workshop, we explored the strange way that computers read text: by splitting it into tokens and tallying their frequencies. A novel or album review is reduced to a series of word counts. Since then, we have used simple arithmetic and statistics to identify patterns across those tallies. However, it is often useful to consider these patterns from another perspective: geometry.\n",
    "\n",
    "Each text can be described as a series of word counts. What if we treated those like coordinates in space?"
   ]
  },
  {
   "cell_type": "markdown",
   "metadata": {},
   "source": [
    "### Prep for visualization"
   ]
  },
  {
   "cell_type": "code",
   "execution_count": 1,
   "metadata": {
    "tags": []
   },
   "outputs": [
    {
     "name": "stdout",
     "output_type": "stream",
     "text": [
      "%pylab is deprecated, use %matplotlib inline and import the required libraries.\n",
      "Populating the interactive namespace from numpy and matplotlib\n"
     ]
    }
   ],
   "source": [
    "%pylab inline\n",
    "matplotlib.style.use('ggplot')"
   ]
  },
  {
   "cell_type": "markdown",
   "metadata": {},
   "source": [
    "### Create a DTM with a Few Pseudo-Texts"
   ]
  },
  {
   "cell_type": "code",
   "execution_count": 2,
   "metadata": {
    "tags": []
   },
   "outputs": [
    {
     "data": {
      "text/html": [
       "<div>\n",
       "<style scoped>\n",
       "    .dataframe tbody tr th:only-of-type {\n",
       "        vertical-align: middle;\n",
       "    }\n",
       "\n",
       "    .dataframe tbody tr th {\n",
       "        vertical-align: top;\n",
       "    }\n",
       "\n",
       "    .dataframe thead th {\n",
       "        text-align: right;\n",
       "    }\n",
       "</style>\n",
       "<table border=\"1\" class=\"dataframe\">\n",
       "  <thead>\n",
       "    <tr style=\"text-align: right;\">\n",
       "      <th></th>\n",
       "      <th>eggs</th>\n",
       "      <th>sausage</th>\n",
       "      <th>bacon</th>\n",
       "    </tr>\n",
       "  </thead>\n",
       "  <tbody>\n",
       "    <tr>\n",
       "      <th>Novel A</th>\n",
       "      <td>50</td>\n",
       "      <td>60</td>\n",
       "      <td>60</td>\n",
       "    </tr>\n",
       "    <tr>\n",
       "      <th>Novel B</th>\n",
       "      <td>90</td>\n",
       "      <td>10</td>\n",
       "      <td>10</td>\n",
       "    </tr>\n",
       "    <tr>\n",
       "      <th>Novel C</th>\n",
       "      <td>20</td>\n",
       "      <td>70</td>\n",
       "      <td>70</td>\n",
       "    </tr>\n",
       "  </tbody>\n",
       "</table>\n",
       "</div>"
      ],
      "text/plain": [
       "         eggs  sausage  bacon\n",
       "Novel A    50       60     60\n",
       "Novel B    90       10     10\n",
       "Novel C    20       70     70"
      ]
     },
     "execution_count": 2,
     "metadata": {},
     "output_type": "execute_result"
    }
   ],
   "source": [
    "# dataframes!\n",
    "import pandas\n",
    "\n",
    "# Construct dataframe\n",
    "columns = ['eggs','sausage','bacon']\n",
    "indices = ['Novel A', 'Novel B', 'Novel C']\n",
    "dtm = [[50,60,60],[90,10,10], [20,70,70]]\n",
    "dtm_df = pandas.DataFrame(dtm, columns = columns, index = indices)\n",
    "\n",
    "# Show dataframe\n",
    "dtm_df"
   ]
  },
  {
   "cell_type": "markdown",
   "metadata": {},
   "source": [
    "### Visualize"
   ]
  },
  {
   "cell_type": "code",
   "execution_count": 3,
   "metadata": {
    "tags": []
   },
   "outputs": [
    {
     "data": {
      "text/plain": [
       "(Text(0.5, 0, 'eggs'), Text(0, 0.5, 'sausage'))"
      ]
     },
     "execution_count": 3,
     "metadata": {},
     "output_type": "execute_result"
    },
    {
     "data": {
      "image/png": "[encoded data removed]",
      "text/plain": [
       "<Figure size 640x480 with 1 Axes>"
      ]
     },
     "metadata": {},
     "output_type": "display_data"
    }
   ],
   "source": [
    "# Plot our points\n",
    "scatter(dtm_df['eggs'], dtm_df['sausage'])\n",
    "\n",
    "# Make the graph look good\n",
    "xlim([0,100]), ylim([0,100])\n",
    "xlabel('eggs'), ylabel('sausage')"
   ]
  },
  {
   "cell_type": "markdown",
   "metadata": {},
   "source": [
    "### Vectors\n",
    "\n",
    "At a glance, a couple of points are lying closer to one another. We used the word frequencies of just two words in order to plot our texts in a two-dimensional plane. The term frequency \"summaries\" of <i>Novel A</i> & <i>Novel C</i> are pretty similar to one another: they both share a major concern with \"eggs\", whereas <i>Novel B</i> seems to focus primarily on \"sausage.\"\n",
    "\n",
    "This raises a question: how can we operationalize our intuition that spatial distance expresses topical similarity?\n",
    "\n",
    "<img src='Dot-Product.png' >\n",
    "\n",
    "The most common measurement of distance between points is their <a href=\"https://en.wikipedia.org/wiki/Cosine_similarity\">Cosine Similarity</a>. Imagine that we draw an arrow from the origin of the graph -- point (0,0) -- to the dot representing each text. This arrow is called a <i>vector</i>. The Cosine Similarity between two vectors measures how much they overlap with one another. Values for the cosine similarity between two vectors fall between 0 and 1, so they are easily interpreted and compared."
   ]
  },
  {
   "cell_type": "markdown",
   "metadata": {},
   "source": [
    "### Cosine Distance"
   ]
  },
  {
   "cell_type": "code",
   "execution_count": 4,
   "metadata": {
    "tags": []
   },
   "outputs": [],
   "source": [
    "# Although we want the Cosine Distance, it is mathematically\n",
    "# simpler to calculate its opposite: Cosine Similarity\n",
    "\n",
    "from sklearn.metrics.pairwise import cosine_similarity"
   ]
  },
  {
   "cell_type": "code",
   "execution_count": 5,
   "metadata": {
    "tags": []
   },
   "outputs": [],
   "source": [
    "# So we will subtract the similarities from 1\n",
    "\n",
    "cos_sim = cosine_similarity(dtm_df)"
   ]
  },
  {
   "cell_type": "code",
   "execution_count": 6,
   "metadata": {
    "tags": []
   },
   "outputs": [
    {
     "data": {
      "text/plain": [
       "array([[1.  , 0.64, 0.95],\n",
       "       [0.64, 1.  , 0.35],\n",
       "       [0.95, 0.35, 1.  ]])"
      ]
     },
     "execution_count": 6,
     "metadata": {},
     "output_type": "execute_result"
    }
   ],
   "source": [
    "# And we'll make it a little easier to read\n",
    "\n",
    "np.round(cos_sim, 2)"
   ]
  },
  {
   "cell_type": "code",
   "execution_count": 7,
   "metadata": {
    "tags": []
   },
   "outputs": [
    {
     "data": {
      "text/html": [
       "<div>\n",
       "<style scoped>\n",
       "    .dataframe tbody tr th:only-of-type {\n",
       "        vertical-align: middle;\n",
       "    }\n",
       "\n",
       "    .dataframe tbody tr th {\n",
       "        vertical-align: top;\n",
       "    }\n",
       "\n",
       "    .dataframe thead th {\n",
       "        text-align: right;\n",
       "    }\n",
       "</style>\n",
       "<table border=\"1\" class=\"dataframe\">\n",
       "  <thead>\n",
       "    <tr style=\"text-align: right;\">\n",
       "      <th></th>\n",
       "      <th>abandoned</th>\n",
       "      <th>abhorrence</th>\n",
       "      <th>abide</th>\n",
       "      <th>abilities</th>\n",
       "      <th>ability</th>\n",
       "      <th>able</th>\n",
       "      <th>aboard</th>\n",
       "      <th>abode</th>\n",
       "      <th>abominable</th>\n",
       "      <th>abominably</th>\n",
       "      <th>...</th>\n",
       "      <th>yielding</th>\n",
       "      <th>yonder</th>\n",
       "      <th>york</th>\n",
       "      <th>young</th>\n",
       "      <th>younger</th>\n",
       "      <th>youngest</th>\n",
       "      <th>youth</th>\n",
       "      <th>youthful</th>\n",
       "      <th>youths</th>\n",
       "      <th>zeal</th>\n",
       "    </tr>\n",
       "  </thead>\n",
       "  <tbody>\n",
       "    <tr>\n",
       "      <th>Hawthorne: Scarlet Letter</th>\n",
       "      <td>1</td>\n",
       "      <td>1</td>\n",
       "      <td>1</td>\n",
       "      <td>1</td>\n",
       "      <td>1</td>\n",
       "      <td>1</td>\n",
       "      <td>1</td>\n",
       "      <td>1</td>\n",
       "      <td>0</td>\n",
       "      <td>0</td>\n",
       "      <td>...</td>\n",
       "      <td>1</td>\n",
       "      <td>1</td>\n",
       "      <td>1</td>\n",
       "      <td>1</td>\n",
       "      <td>1</td>\n",
       "      <td>1</td>\n",
       "      <td>1</td>\n",
       "      <td>1</td>\n",
       "      <td>0</td>\n",
       "      <td>1</td>\n",
       "    </tr>\n",
       "    <tr>\n",
       "      <th>Hawthorne: Seven Gables</th>\n",
       "      <td>1</td>\n",
       "      <td>0</td>\n",
       "      <td>1</td>\n",
       "      <td>1</td>\n",
       "      <td>1</td>\n",
       "      <td>1</td>\n",
       "      <td>1</td>\n",
       "      <td>1</td>\n",
       "      <td>1</td>\n",
       "      <td>0</td>\n",
       "      <td>...</td>\n",
       "      <td>1</td>\n",
       "      <td>1</td>\n",
       "      <td>0</td>\n",
       "      <td>1</td>\n",
       "      <td>1</td>\n",
       "      <td>1</td>\n",
       "      <td>1</td>\n",
       "      <td>1</td>\n",
       "      <td>0</td>\n",
       "      <td>1</td>\n",
       "    </tr>\n",
       "    <tr>\n",
       "      <th>Fitzgerald: This Side of Paradise</th>\n",
       "      <td>1</td>\n",
       "      <td>0</td>\n",
       "      <td>0</td>\n",
       "      <td>1</td>\n",
       "      <td>1</td>\n",
       "      <td>1</td>\n",
       "      <td>0</td>\n",
       "      <td>0</td>\n",
       "      <td>0</td>\n",
       "      <td>0</td>\n",
       "      <td>...</td>\n",
       "      <td>0</td>\n",
       "      <td>0</td>\n",
       "      <td>1</td>\n",
       "      <td>1</td>\n",
       "      <td>1</td>\n",
       "      <td>0</td>\n",
       "      <td>1</td>\n",
       "      <td>1</td>\n",
       "      <td>1</td>\n",
       "      <td>0</td>\n",
       "    </tr>\n",
       "    <tr>\n",
       "      <th>Fitzgerald: Beautiful and the Damned</th>\n",
       "      <td>1</td>\n",
       "      <td>1</td>\n",
       "      <td>0</td>\n",
       "      <td>0</td>\n",
       "      <td>1</td>\n",
       "      <td>1</td>\n",
       "      <td>1</td>\n",
       "      <td>1</td>\n",
       "      <td>1</td>\n",
       "      <td>1</td>\n",
       "      <td>...</td>\n",
       "      <td>1</td>\n",
       "      <td>1</td>\n",
       "      <td>1</td>\n",
       "      <td>1</td>\n",
       "      <td>1</td>\n",
       "      <td>1</td>\n",
       "      <td>1</td>\n",
       "      <td>0</td>\n",
       "      <td>1</td>\n",
       "      <td>0</td>\n",
       "    </tr>\n",
       "    <tr>\n",
       "      <th>Austen: Sense and Sensibility</th>\n",
       "      <td>1</td>\n",
       "      <td>1</td>\n",
       "      <td>0</td>\n",
       "      <td>1</td>\n",
       "      <td>1</td>\n",
       "      <td>1</td>\n",
       "      <td>0</td>\n",
       "      <td>1</td>\n",
       "      <td>0</td>\n",
       "      <td>1</td>\n",
       "      <td>...</td>\n",
       "      <td>0</td>\n",
       "      <td>0</td>\n",
       "      <td>0</td>\n",
       "      <td>1</td>\n",
       "      <td>1</td>\n",
       "      <td>1</td>\n",
       "      <td>1</td>\n",
       "      <td>1</td>\n",
       "      <td>0</td>\n",
       "      <td>1</td>\n",
       "    </tr>\n",
       "    <tr>\n",
       "      <th>Austen: Pride and Prejudice</th>\n",
       "      <td>0</td>\n",
       "      <td>1</td>\n",
       "      <td>1</td>\n",
       "      <td>1</td>\n",
       "      <td>0</td>\n",
       "      <td>1</td>\n",
       "      <td>0</td>\n",
       "      <td>1</td>\n",
       "      <td>1</td>\n",
       "      <td>1</td>\n",
       "      <td>...</td>\n",
       "      <td>1</td>\n",
       "      <td>0</td>\n",
       "      <td>1</td>\n",
       "      <td>1</td>\n",
       "      <td>1</td>\n",
       "      <td>1</td>\n",
       "      <td>1</td>\n",
       "      <td>0</td>\n",
       "      <td>1</td>\n",
       "      <td>0</td>\n",
       "    </tr>\n",
       "  </tbody>\n",
       "</table>\n",
       "<p>6 rows × 6993 columns</p>\n",
       "</div>"
      ],
      "text/plain": [
       "                                      abandoned  abhorrence  abide  abilities  \\\n",
       "Hawthorne: Scarlet Letter                     1           1      1          1   \n",
       "Hawthorne: Seven Gables                       1           0      1          1   \n",
       "Fitzgerald: This Side of Paradise             1           0      0          1   \n",
       "Fitzgerald: Beautiful and the Damned          1           1      0          0   \n",
       "Austen: Sense and Sensibility                 1           1      0          1   \n",
       "Austen: Pride and Prejudice                   0           1      1          1   \n",
       "\n",
       "                                      ability  able  aboard  abode  \\\n",
       "Hawthorne: Scarlet Letter                   1     1       1      1   \n",
       "Hawthorne: Seven Gables                     1     1       1      1   \n",
       "Fitzgerald: This Side of Paradise           1     1       0      0   \n",
       "Fitzgerald: Beautiful and the Damned        1     1       1      1   \n",
       "Austen: Sense and Sensibility               1     1       0      1   \n",
       "Austen: Pride and Prejudice                 0     1       0      1   \n",
       "\n",
       "                                      abominable  abominably  ...  yielding  \\\n",
       "Hawthorne: Scarlet Letter                      0           0  ...         1   \n",
       "Hawthorne: Seven Gables                        1           0  ...         1   \n",
       "Fitzgerald: This Side of Paradise              0           0  ...         0   \n",
       "Fitzgerald: Beautiful and the Damned           1           1  ...         1   \n",
       "Austen: Sense and Sensibility                  0           1  ...         0   \n",
       "Austen: Pride and Prejudice                    1           1  ...         1   \n",
       "\n",
       "                                      yonder  york  young  younger  youngest  \\\n",
       "Hawthorne: Scarlet Letter                  1     1      1        1         1   \n",
       "Hawthorne: Seven Gables                    1     0      1        1         1   \n",
       "Fitzgerald: This Side of Paradise          0     1      1        1         0   \n",
       "Fitzgerald: Beautiful and the Damned       1     1      1        1         1   \n",
       "Austen: Sense and Sensibility              0     0      1        1         1   \n",
       "Austen: Pride and Prejudice                0     1      1        1         1   \n",
       "\n",
       "                                      youth  youthful  youths  zeal  \n",
       "Hawthorne: Scarlet Letter                 1         1       0     1  \n",
       "Hawthorne: Seven Gables                   1         1       0     1  \n",
       "Fitzgerald: This Side of Paradise         1         1       1     0  \n",
       "Fitzgerald: Beautiful and the Damned      1         0       1     0  \n",
       "Austen: Sense and Sensibility             1         1       0     1  \n",
       "Austen: Pride and Prejudice               1         0       1     0  \n",
       "\n",
       "[6 rows x 6993 columns]"
      ]
     },
     "execution_count": 7,
     "metadata": {},
     "output_type": "execute_result"
    }
   ],
   "source": [
    "#Compare the distance between novels\n",
    "\n",
    "filelist = ['txtlab_Novel450_English/EN_1850_Hawthorne,Nathaniel_TheScarletLetter_Novel.txt',\n",
    "            'txtlab_Novel450_English/EN_1851_Hawthorne,Nathaniel_TheHouseoftheSevenGables_Novel.txt',\n",
    "            'txtlab_Novel450_English/EN_1920_Fitzgerald,FScott_ThisSideofParadise_Novel.txt',\n",
    "            'txtlab_Novel450_English/EN_1922_Fitzgerald,FScott_TheBeautifulandtheDamned_Novel.txt',\n",
    "            'txtlab_Novel450_English/EN_1811_Austen,Jane_SenseandSensibility_Novel.txt',\n",
    "            'txtlab_Novel450_English/EN_1813_Austen,Jane_PrideandPrejudice_Novel.txt']\n",
    "\n",
    "novel_names = ['Hawthorne: Scarlet Letter',\n",
    "           'Hawthorne: Seven Gables',\n",
    "           'Fitzgerald: This Side of Paradise',\n",
    "           'Fitzgerald: Beautiful and the Damned',\n",
    "           'Austen: Sense and Sensibility',\n",
    "           'Austen: Pride and Prejudice']\n",
    "\n",
    "text_list = []\n",
    "\n",
    "for file in filelist:\n",
    "    with open(file, 'r', encoding = 'utf-8') as myfile:\n",
    "        text_list.append(myfile.read())\n",
    "\n",
    "            \n",
    "\n",
    "#import the function CountVectorizer\n",
    "from sklearn.feature_extraction.text import CountVectorizer\n",
    "\n",
    "cv = CountVectorizer(stop_words = 'english', min_df = 3, binary=True)\n",
    "\n",
    "novel_dtm = cv.fit_transform(text_list).toarray()\n",
    "feature_list = cv.get_feature_names_out()\n",
    "dtm_df_novel = pandas.DataFrame(novel_dtm, columns = feature_list, index = novel_names)\n",
    "dtm_df_novel"
   ]
  },
  {
   "cell_type": "code",
   "execution_count": 8,
   "metadata": {
    "tags": []
   },
   "outputs": [
    {
     "data": {
      "text/plain": [
       "array([[1.  , 0.8 , 0.69, 0.75, 0.67, 0.67],\n",
       "       [0.8 , 1.  , 0.74, 0.8 , 0.7 , 0.7 ],\n",
       "       [0.69, 0.74, 1.  , 0.78, 0.62, 0.61],\n",
       "       [0.75, 0.8 , 0.78, 1.  , 0.69, 0.68],\n",
       "       [0.67, 0.7 , 0.62, 0.69, 1.  , 0.81],\n",
       "       [0.67, 0.7 , 0.61, 0.68, 0.81, 1.  ]])"
      ]
     },
     "execution_count": 8,
     "metadata": {},
     "output_type": "execute_result"
    }
   ],
   "source": [
    "cos_sim_novel = cosine_similarity(dtm_df_novel)\n",
    "np.round(cos_sim_novel, 2)"
   ]
  },
  {
   "cell_type": "code",
   "execution_count": 9,
   "metadata": {
    "tags": []
   },
   "outputs": [
    {
     "data": {
      "text/html": [
       "<div>\n",
       "<style scoped>\n",
       "    .dataframe tbody tr th:only-of-type {\n",
       "        vertical-align: middle;\n",
       "    }\n",
       "\n",
       "    .dataframe tbody tr th {\n",
       "        vertical-align: top;\n",
       "    }\n",
       "\n",
       "    .dataframe thead th {\n",
       "        text-align: right;\n",
       "    }\n",
       "</style>\n",
       "<table border=\"1\" class=\"dataframe\">\n",
       "  <thead>\n",
       "    <tr style=\"text-align: right;\">\n",
       "      <th></th>\n",
       "      <th>Hawthorne: Scarlet Letter</th>\n",
       "      <th>Hawthorne: Seven Gables</th>\n",
       "      <th>Fitzgerald: This Side of Paradise</th>\n",
       "      <th>Fitzgerald: Beautiful and the Damned</th>\n",
       "      <th>Austen: Sense and Sensibility</th>\n",
       "      <th>Austen: Pride and Prejudice</th>\n",
       "    </tr>\n",
       "  </thead>\n",
       "  <tbody>\n",
       "    <tr>\n",
       "      <th>Hawthorne: Scarlet Letter</th>\n",
       "      <td>1.000000</td>\n",
       "      <td>0.803744</td>\n",
       "      <td>0.692049</td>\n",
       "      <td>0.751001</td>\n",
       "      <td>0.669507</td>\n",
       "      <td>0.668908</td>\n",
       "    </tr>\n",
       "    <tr>\n",
       "      <th>Hawthorne: Seven Gables</th>\n",
       "      <td>0.803744</td>\n",
       "      <td>1.000000</td>\n",
       "      <td>0.738168</td>\n",
       "      <td>0.804472</td>\n",
       "      <td>0.704318</td>\n",
       "      <td>0.699387</td>\n",
       "    </tr>\n",
       "    <tr>\n",
       "      <th>Fitzgerald: This Side of Paradise</th>\n",
       "      <td>0.692049</td>\n",
       "      <td>0.738168</td>\n",
       "      <td>1.000000</td>\n",
       "      <td>0.784757</td>\n",
       "      <td>0.620796</td>\n",
       "      <td>0.609646</td>\n",
       "    </tr>\n",
       "    <tr>\n",
       "      <th>Fitzgerald: Beautiful and the Damned</th>\n",
       "      <td>0.751001</td>\n",
       "      <td>0.804472</td>\n",
       "      <td>0.784757</td>\n",
       "      <td>1.000000</td>\n",
       "      <td>0.690547</td>\n",
       "      <td>0.683669</td>\n",
       "    </tr>\n",
       "    <tr>\n",
       "      <th>Austen: Sense and Sensibility</th>\n",
       "      <td>0.669507</td>\n",
       "      <td>0.704318</td>\n",
       "      <td>0.620796</td>\n",
       "      <td>0.690547</td>\n",
       "      <td>1.000000</td>\n",
       "      <td>0.808900</td>\n",
       "    </tr>\n",
       "    <tr>\n",
       "      <th>Austen: Pride and Prejudice</th>\n",
       "      <td>0.668908</td>\n",
       "      <td>0.699387</td>\n",
       "      <td>0.609646</td>\n",
       "      <td>0.683669</td>\n",
       "      <td>0.808900</td>\n",
       "      <td>1.000000</td>\n",
       "    </tr>\n",
       "  </tbody>\n",
       "</table>\n",
       "</div>"
      ],
      "text/plain": [
       "                                      Hawthorne: Scarlet Letter  \\\n",
       "Hawthorne: Scarlet Letter                              1.000000   \n",
       "Hawthorne: Seven Gables                                0.803744   \n",
       "Fitzgerald: This Side of Paradise                      0.692049   \n",
       "Fitzgerald: Beautiful and the Damned                   0.751001   \n",
       "Austen: Sense and Sensibility                          0.669507   \n",
       "Austen: Pride and Prejudice                            0.668908   \n",
       "\n",
       "                                      Hawthorne: Seven Gables  \\\n",
       "Hawthorne: Scarlet Letter                            0.803744   \n",
       "Hawthorne: Seven Gables                              1.000000   \n",
       "Fitzgerald: This Side of Paradise                    0.738168   \n",
       "Fitzgerald: Beautiful and the Damned                 0.804472   \n",
       "Austen: Sense and Sensibility                        0.704318   \n",
       "Austen: Pride and Prejudice                          0.699387   \n",
       "\n",
       "                                      Fitzgerald: This Side of Paradise  \\\n",
       "Hawthorne: Scarlet Letter                                      0.692049   \n",
       "Hawthorne: Seven Gables                                        0.738168   \n",
       "Fitzgerald: This Side of Paradise                              1.000000   \n",
       "Fitzgerald: Beautiful and the Damned                           0.784757   \n",
       "Austen: Sense and Sensibility                                  0.620796   \n",
       "Austen: Pride and Prejudice                                    0.609646   \n",
       "\n",
       "                                      Fitzgerald: Beautiful and the Damned  \\\n",
       "Hawthorne: Scarlet Letter                                         0.751001   \n",
       "Hawthorne: Seven Gables                                           0.804472   \n",
       "Fitzgerald: This Side of Paradise                                 0.784757   \n",
       "Fitzgerald: Beautiful and the Damned                              1.000000   \n",
       "Austen: Sense and Sensibility                                     0.690547   \n",
       "Austen: Pride and Prejudice                                       0.683669   \n",
       "\n",
       "                                      Austen: Sense and Sensibility  \\\n",
       "Hawthorne: Scarlet Letter                                  0.669507   \n",
       "Hawthorne: Seven Gables                                    0.704318   \n",
       "Fitzgerald: This Side of Paradise                          0.620796   \n",
       "Fitzgerald: Beautiful and the Damned                       0.690547   \n",
       "Austen: Sense and Sensibility                              1.000000   \n",
       "Austen: Pride and Prejudice                                0.808900   \n",
       "\n",
       "                                      Austen: Pride and Prejudice  \n",
       "Hawthorne: Scarlet Letter                                0.668908  \n",
       "Hawthorne: Seven Gables                                  0.699387  \n",
       "Fitzgerald: This Side of Paradise                        0.609646  \n",
       "Fitzgerald: Beautiful and the Damned                     0.683669  \n",
       "Austen: Sense and Sensibility                            0.808900  \n",
       "Austen: Pride and Prejudice                              1.000000  "
      ]
     },
     "execution_count": 9,
     "metadata": {},
     "output_type": "execute_result"
    }
   ],
   "source": [
    "cos_df = pandas.DataFrame(cos_sim_novel, columns = novel_names, index = novel_names)\n",
    "cos_df"
   ]
  },
  {
   "cell_type": "code",
   "execution_count": 10,
   "metadata": {
    "tags": []
   },
   "outputs": [
    {
     "name": "stderr",
     "output_type": "stream",
     "text": [
      "/Users/angela/miniconda3/lib/python3.10/site-packages/sklearn/manifold/_mds.py:298: FutureWarning: The default value of `normalized_stress` will change to `'auto'` in version 1.4. To suppress this warning, manually set the value of `normalized_stress`.\n",
      "  warnings.warn(\n"
     ]
    },
    {
     "data": {
      "image/png": "[encoded data removed]",
      "text/plain": [
       "<Figure size 640x480 with 1 Axes>"
      ]
     },
     "metadata": {},
     "output_type": "display_data"
    }
   ],
   "source": [
    "#visualizing differences\n",
    "\n",
    "from sklearn.manifold import MDS\n",
    "\n",
    "# two components as we're plotting points in a two-dimensional plane\n",
    "# \"precomputed\" because we provide a distance matrix\n",
    "# we will also specify `random_state` so the plot is reproducible.\n",
    "\n",
    "#transform cosine similarity to cosine distance\n",
    "cos_dist = 1 - cosine_similarity(dtm_df_novel)\n",
    "\n",
    "mds = MDS(n_components=2, dissimilarity=\"precomputed\", random_state=1)\n",
    "\n",
    "pos = mds.fit_transform(cos_dist)  # shape (n_components, n_samples)\n",
    "xs, ys = pos[:, 0], pos[:, 1]\n",
    "\n",
    "for x, y, name in zip(xs, ys, novel_names):\n",
    "    plt.scatter(x, y)\n",
    "    plt.text(x, y, name)\n",
    "\n",
    "plt.show()"
   ]
  },
  {
   "cell_type": "markdown",
   "metadata": {},
   "source": [
    "The above method has a broad range of applications, such as unsupervised clustering. Common techniques include <a href = \"https://en.wikipedia.org/wiki/K-means_clustering\">K-Means Clustering</a> and <a href=\"https://en.wikipedia.org/wiki/Hierarchical_clustering\">Heirchical Dendrograms</a>. These attempt to identify groups of texts with shared content, based on these kinds of distance measures.\n",
    "\n",
    "Here's an example of a dendrogram based on these six novels:"
   ]
  },
  {
   "cell_type": "code",
   "execution_count": 11,
   "metadata": {
    "tags": []
   },
   "outputs": [
    {
     "data": {
      "image/png": "[encoded data removed]",
      "text/plain": [
       "<Figure size 640x480 with 1 Axes>"
      ]
     },
     "metadata": {},
     "output_type": "display_data"
    }
   ],
   "source": [
    "from scipy.cluster.hierarchy import ward, dendrogram\n",
    "linkage_matrix = ward(cos_dist)\n",
    "\n",
    "dendrogram(linkage_matrix, orientation=\"right\", labels=novel_names)\n",
    "\n",
    "plt.tight_layout()  # fixes margins\n",
    "\n",
    "plt.show()"
   ]
  },
  {
   "cell_type": "markdown",
   "metadata": {},
   "source": [
    "### Vector Semantics\n",
    "\n",
    "We can also turn this logic on its head. Rather than produce vectors representing texts based on their words, we will produce vectors for the words based on their contexts."
   ]
  },
  {
   "cell_type": "code",
   "execution_count": 12,
   "metadata": {
    "tags": []
   },
   "outputs": [
    {
     "data": {
      "text/html": [
       "<div>\n",
       "<style scoped>\n",
       "    .dataframe tbody tr th:only-of-type {\n",
       "        vertical-align: middle;\n",
       "    }\n",
       "\n",
       "    .dataframe tbody tr th {\n",
       "        vertical-align: top;\n",
       "    }\n",
       "\n",
       "    .dataframe thead th {\n",
       "        text-align: right;\n",
       "    }\n",
       "</style>\n",
       "<table border=\"1\" class=\"dataframe\">\n",
       "  <thead>\n",
       "    <tr style=\"text-align: right;\">\n",
       "      <th></th>\n",
       "      <th>Hawthorne: Scarlet Letter</th>\n",
       "      <th>Hawthorne: Seven Gables</th>\n",
       "      <th>Fitzgerald: This Side of Paradise</th>\n",
       "      <th>Fitzgerald: Beautiful and the Damned</th>\n",
       "      <th>Austen: Sense and Sensibility</th>\n",
       "      <th>Austen: Pride and Prejudice</th>\n",
       "    </tr>\n",
       "  </thead>\n",
       "  <tbody>\n",
       "    <tr>\n",
       "      <th>abandoned</th>\n",
       "      <td>1</td>\n",
       "      <td>1</td>\n",
       "      <td>1</td>\n",
       "      <td>1</td>\n",
       "      <td>1</td>\n",
       "      <td>0</td>\n",
       "    </tr>\n",
       "    <tr>\n",
       "      <th>abhorrence</th>\n",
       "      <td>1</td>\n",
       "      <td>0</td>\n",
       "      <td>0</td>\n",
       "      <td>1</td>\n",
       "      <td>1</td>\n",
       "      <td>1</td>\n",
       "    </tr>\n",
       "    <tr>\n",
       "      <th>abide</th>\n",
       "      <td>1</td>\n",
       "      <td>1</td>\n",
       "      <td>0</td>\n",
       "      <td>0</td>\n",
       "      <td>0</td>\n",
       "      <td>1</td>\n",
       "    </tr>\n",
       "    <tr>\n",
       "      <th>abilities</th>\n",
       "      <td>1</td>\n",
       "      <td>1</td>\n",
       "      <td>1</td>\n",
       "      <td>0</td>\n",
       "      <td>1</td>\n",
       "      <td>1</td>\n",
       "    </tr>\n",
       "    <tr>\n",
       "      <th>ability</th>\n",
       "      <td>1</td>\n",
       "      <td>1</td>\n",
       "      <td>1</td>\n",
       "      <td>1</td>\n",
       "      <td>1</td>\n",
       "      <td>0</td>\n",
       "    </tr>\n",
       "  </tbody>\n",
       "</table>\n",
       "</div>"
      ],
      "text/plain": [
       "            Hawthorne: Scarlet Letter  Hawthorne: Seven Gables  \\\n",
       "abandoned                           1                        1   \n",
       "abhorrence                          1                        0   \n",
       "abide                               1                        1   \n",
       "abilities                           1                        1   \n",
       "ability                             1                        1   \n",
       "\n",
       "            Fitzgerald: This Side of Paradise  \\\n",
       "abandoned                                   1   \n",
       "abhorrence                                  0   \n",
       "abide                                       0   \n",
       "abilities                                   1   \n",
       "ability                                     1   \n",
       "\n",
       "            Fitzgerald: Beautiful and the Damned  \\\n",
       "abandoned                                      1   \n",
       "abhorrence                                     1   \n",
       "abide                                          0   \n",
       "abilities                                      0   \n",
       "ability                                        1   \n",
       "\n",
       "            Austen: Sense and Sensibility  Austen: Pride and Prejudice  \n",
       "abandoned                               1                            0  \n",
       "abhorrence                              1                            1  \n",
       "abide                                   0                            1  \n",
       "abilities                               1                            1  \n",
       "ability                                 1                            0  "
      ]
     },
     "execution_count": 12,
     "metadata": {},
     "output_type": "execute_result"
    }
   ],
   "source": [
    "# Turn our DTM sideways\n",
    "\n",
    "dtm_df_novel.T.head()"
   ]
  },
  {
   "cell_type": "code",
   "execution_count": 13,
   "metadata": {
    "tags": []
   },
   "outputs": [],
   "source": [
    "# Find the Cosine Distances between pairs of word-vectors\n",
    "\n",
    "cos_sim_words = cosine_similarity(dtm_df_novel.T)"
   ]
  },
  {
   "cell_type": "code",
   "execution_count": 14,
   "metadata": {
    "tags": []
   },
   "outputs": [
    {
     "data": {
      "text/plain": [
       "array([[1.  , 0.67, 0.52, ..., 0.89, 0.52, 0.77],\n",
       "       [0.67, 1.  , 0.58, ..., 0.5 , 0.58, 0.58],\n",
       "       [0.52, 0.58, 1.  , ..., 0.58, 0.33, 0.67],\n",
       "       ...,\n",
       "       [0.89, 0.5 , 0.58, ..., 1.  , 0.29, 0.87],\n",
       "       [0.52, 0.58, 0.33, ..., 0.29, 1.  , 0.  ],\n",
       "       [0.77, 0.58, 0.67, ..., 0.87, 0.  , 1.  ]])"
      ]
     },
     "execution_count": 14,
     "metadata": {},
     "output_type": "execute_result"
    }
   ],
   "source": [
    "# In readable format\n",
    "\n",
    "np.round(cos_sim_words, 2)"
   ]
  },
  {
   "cell_type": "markdown",
   "metadata": {},
   "source": [
    "Theoretically you could visualize and cluster these as well - but this takes a lot of computational power!\n",
    "\n",
    "We'll thus turn to the machine learning version: word embeddings"
   ]
  },
  {
   "cell_type": "markdown",
   "metadata": {},
   "source": [
    "### Word2Vec\n",
    "\n",
    "This last cell indicates that \"sausage\" and \"bacon\" perfectly align with one another across texts. If we saw this in a real-world example, we might interpret it to mean that the words share some kind of semantic or thematic relationship. In fact, this method is precisely one that humanists have used in order to find interesting linguistic patterns. (See Ted Underwood's blog post, <a href = \"https://tedunderwood.com/2011/10/16/lsa-is-a-marvellous-tool-but-humanists-may-no-use-it-the-way-computer-scientists-do/\">LSA is a marvellous tool, but...</a>.)\n",
    "\n",
    "Recently, however, a more sophisticated technique for finding semantic relationships between words has enjoyed great popularity: Word2Vec\n",
    "\n",
    "Word2Vec draws from the logic of the concordance that we saw on the first day of the workshop. In the example above, a word (row) is described by its frequency within an entire novel (column). The word2vec algorithm tries to describe a given word in terms of the ones that appear immediately to the right and left in actual sentences. More precisely it learns how to <i>predict</i> the context words.\n",
    "\n",
    "<img src = \"Skip-gram diagram.png\">\n",
    "\n",
    "Without going too deeply into the algorithm, suffice it to say that it involves a two-step process. First, the input word gets compressed into a dense vector. Second, the vector gets decoded into the set of context words. Keywords that appear within similar contexts will have similar vector representations in between steps. This vector is referred to as a <i>word embedding</i>.\n",
    "\n",
    "Since the word embedding is a vector, we can perform tests like cosine similarity and other kinds of operations. Those operations can reveal many different kinds of relationships between words, as we shall see.\n",
    "\n",
    "<img src = \"w2v-Analogies.png\">"
   ]
  },
  {
   "cell_type": "markdown",
   "metadata": {},
   "source": [
    "# 1. Import & Pre-Processing"
   ]
  },
  {
   "cell_type": "markdown",
   "metadata": {},
   "source": [
    "### Import Packages"
   ]
  },
  {
   "cell_type": "code",
   "execution_count": 15,
   "metadata": {
    "tags": []
   },
   "outputs": [],
   "source": [
    "# Data Wrangling\n",
    "\n",
    "import os\n",
    "import numpy as np\n",
    "import pandas\n",
    "from scipy.spatial.distance import cosine\n",
    "from sklearn.metrics import pairwise\n",
    "from sklearn.manifold import MDS, TSNE"
   ]
  },
  {
   "cell_type": "code",
   "execution_count": 16,
   "metadata": {
    "tags": []
   },
   "outputs": [
    {
     "name": "stderr",
     "output_type": "stream",
     "text": [
      "[nltk_data] Downloading package punkt to /Users/angela/nltk_data...\n",
      "[nltk_data]   Package punkt is already up-to-date!\n"
     ]
    }
   ],
   "source": [
    "# Natural Language Processing\n",
    "\n",
    "\n",
    "import nltk\n",
    "nltk.download('punkt')\n",
    "from nltk.tokenize import word_tokenize, sent_tokenize"
   ]
  },
  {
   "cell_type": "code",
   "execution_count": 17,
   "metadata": {
    "tags": []
   },
   "outputs": [],
   "source": [
    "# New libarary (not in Anaconda: gensim)\n",
    "import gensim"
   ]
  },
  {
   "cell_type": "code",
   "execution_count": 18,
   "metadata": {
    "tags": []
   },
   "outputs": [],
   "source": [
    "# Custom Tokenizer for Classroom Use\n",
    "\n",
    "def fast_tokenize(text):\n",
    "    \n",
    "    # Get a list of punctuation marks\n",
    "    from string import punctuation\n",
    "    \n",
    "    lower_case = text.lower()\n",
    "    \n",
    "    # Iterate through text removing punctuation characters\n",
    "    no_punct = \"\".join([char for char in lower_case if char not in punctuation])\n",
    "    \n",
    "    # Split text over whitespace into list of words\n",
    "    tokens = no_punct.split()\n",
    "    \n",
    "    return tokens"
   ]
  },
  {
   "cell_type": "markdown",
   "metadata": {},
   "source": [
    "### Corpus Description\n",
    "English-language subset of Andrew Piper's novel corpus, totaling 150 novels by British and American authors spanning the years 1771-1930. These texts reside on disk, each in a separate plaintext file. Metadata is contained in a spreadsheet distributed with the novel files.\n",
    "\n",
    "### Metadata Columns\n",
    "<ol><li>Filename: Name of file on disk</li>\n",
    "<li>ID: Unique ID in Piper corpus</li>\n",
    "<li>Language: Language of novel</li>\n",
    "<li>Date: Initial publication date</li>\n",
    "<li>Title: Title of novel</li>\n",
    "<li>Gender: Authorial gender</li>\n",
    "<li>Person: Textual perspective</li>\n",
    "<li>Length: Number of tokens in novel</li></ol>"
   ]
  },
  {
   "cell_type": "markdown",
   "metadata": {},
   "source": [
    "## Import Metadata"
   ]
  },
  {
   "cell_type": "code",
   "execution_count": 19,
   "metadata": {
    "tags": []
   },
   "outputs": [],
   "source": [
    "# Import Metadata into Pandas Dataframe\n",
    "\n",
    "meta_df = pandas.read_csv('resources/txtlab_Novel450_English.csv', encoding = 'utf-8')"
   ]
  },
  {
   "cell_type": "code",
   "execution_count": 20,
   "metadata": {
    "scrolled": true,
    "tags": []
   },
   "outputs": [
    {
     "data": {
      "text/html": [
       "<div>\n",
       "<style scoped>\n",
       "    .dataframe tbody tr th:only-of-type {\n",
       "        vertical-align: middle;\n",
       "    }\n",
       "\n",
       "    .dataframe tbody tr th {\n",
       "        vertical-align: top;\n",
       "    }\n",
       "\n",
       "    .dataframe thead th {\n",
       "        text-align: right;\n",
       "    }\n",
       "</style>\n",
       "<table border=\"1\" class=\"dataframe\">\n",
       "  <thead>\n",
       "    <tr style=\"text-align: right;\">\n",
       "      <th></th>\n",
       "      <th>filename</th>\n",
       "      <th>id</th>\n",
       "      <th>language</th>\n",
       "      <th>date</th>\n",
       "      <th>author</th>\n",
       "      <th>title</th>\n",
       "      <th>gender</th>\n",
       "      <th>person</th>\n",
       "      <th>length</th>\n",
       "    </tr>\n",
       "  </thead>\n",
       "  <tbody>\n",
       "    <tr>\n",
       "      <th>0</th>\n",
       "      <td>EN_1771_Mackenzie,Henry_TheManofFeeling_Novel.txt</td>\n",
       "      <td>151</td>\n",
       "      <td>English</td>\n",
       "      <td>1771</td>\n",
       "      <td>Mackenzie,Henry</td>\n",
       "      <td>TheManofFeeling</td>\n",
       "      <td>male</td>\n",
       "      <td>first</td>\n",
       "      <td>36458</td>\n",
       "    </tr>\n",
       "    <tr>\n",
       "      <th>1</th>\n",
       "      <td>EN_1771_Smollett,Tobias_TheExpedictionofHenryC...</td>\n",
       "      <td>152</td>\n",
       "      <td>English</td>\n",
       "      <td>1771</td>\n",
       "      <td>Smollett,Tobias</td>\n",
       "      <td>TheExpedictionofHenryClinker</td>\n",
       "      <td>male</td>\n",
       "      <td>first</td>\n",
       "      <td>148261</td>\n",
       "    </tr>\n",
       "    <tr>\n",
       "      <th>2</th>\n",
       "      <td>EN_1778_Burney,Fanny_Evelina_Novel.txt</td>\n",
       "      <td>153</td>\n",
       "      <td>English</td>\n",
       "      <td>1778</td>\n",
       "      <td>Burney,Fanny</td>\n",
       "      <td>Evelina</td>\n",
       "      <td>female</td>\n",
       "      <td>first</td>\n",
       "      <td>154168</td>\n",
       "    </tr>\n",
       "    <tr>\n",
       "      <th>3</th>\n",
       "      <td>EN_1782_Burney,Fanny_Cecilia_Novel.txt</td>\n",
       "      <td>154</td>\n",
       "      <td>English</td>\n",
       "      <td>1782</td>\n",
       "      <td>Burney,Fanny</td>\n",
       "      <td>Cecilia</td>\n",
       "      <td>female</td>\n",
       "      <td>third</td>\n",
       "      <td>328981</td>\n",
       "    </tr>\n",
       "    <tr>\n",
       "      <th>4</th>\n",
       "      <td>EN_1786_Beckford,William_Vathek_Novel.txt</td>\n",
       "      <td>155</td>\n",
       "      <td>English</td>\n",
       "      <td>1786</td>\n",
       "      <td>Beckford,William</td>\n",
       "      <td>Vathek</td>\n",
       "      <td>male</td>\n",
       "      <td>third</td>\n",
       "      <td>36077</td>\n",
       "    </tr>\n",
       "  </tbody>\n",
       "</table>\n",
       "</div>"
      ],
      "text/plain": [
       "                                            filename   id language  date  \\\n",
       "0  EN_1771_Mackenzie,Henry_TheManofFeeling_Novel.txt  151  English  1771   \n",
       "1  EN_1771_Smollett,Tobias_TheExpedictionofHenryC...  152  English  1771   \n",
       "2             EN_1778_Burney,Fanny_Evelina_Novel.txt  153  English  1778   \n",
       "3             EN_1782_Burney,Fanny_Cecilia_Novel.txt  154  English  1782   \n",
       "4          EN_1786_Beckford,William_Vathek_Novel.txt  155  English  1786   \n",
       "\n",
       "             author                         title  gender person  length  \n",
       "0   Mackenzie,Henry               TheManofFeeling    male  first   36458  \n",
       "1   Smollett,Tobias  TheExpedictionofHenryClinker    male  first  148261  \n",
       "2      Burney,Fanny                       Evelina  female  first  154168  \n",
       "3      Burney,Fanny                       Cecilia  female  third  328981  \n",
       "4  Beckford,William                        Vathek    male  third   36077  "
      ]
     },
     "execution_count": 20,
     "metadata": {},
     "output_type": "execute_result"
    }
   ],
   "source": [
    "# Check Metadata\n",
    "\n",
    "meta_df.head()"
   ]
  },
  {
   "cell_type": "markdown",
   "metadata": {},
   "source": [
    "## Import Corpus"
   ]
  },
  {
   "cell_type": "code",
   "execution_count": 21,
   "metadata": {
    "tags": []
   },
   "outputs": [],
   "source": [
    "# Set location of corpus folder\n",
    "\n",
    "fiction_folder = 'txtlab_Novel450_English/'"
   ]
  },
  {
   "cell_type": "code",
   "execution_count": 22,
   "metadata": {
    "tags": []
   },
   "outputs": [
    {
     "name": "stdout",
     "output_type": "stream",
     "text": [
      "UnicodeDecodeError: Unable to read '.DS_Store' - Skipping this file.\n"
     ]
    }
   ],
   "source": [
    "import os\n",
    "\n",
    "# Create an empty list to store the text of each novel\n",
    "novel_list = []\n",
    "\n",
    "# Iterate through filenames in 'fiction_folder'\n",
    "for filename in os.listdir(fiction_folder):\n",
    "    file_path = os.path.join(fiction_folder, filename)\n",
    "    \n",
    "    try:\n",
    "        # Attempt to read the novel text as a string using utf-8 encoding\n",
    "        with open(file_path, 'r', encoding='utf-8') as file_in:\n",
    "            this_novel = file_in.read()\n",
    "        \n",
    "        # Add novel text as a single string to the master list\n",
    "        novel_list.append(this_novel)\n",
    "    \n",
    "    except UnicodeDecodeError as e:\n",
    "        # Handle encoding errors by skipping the problematic file\n",
    "        print(f\"UnicodeDecodeError: Unable to read '{filename}' - Skipping this file.\")\n",
    "        continue\n",
    "\n",
    "# Now 'novel_list' contains the text of all readable novels.\n"
   ]
  },
  {
   "cell_type": "code",
   "execution_count": 23,
   "metadata": {
    "tags": []
   },
   "outputs": [
    {
     "data": {
      "text/plain": [
       "\"CASTLE RACKRENT\\n\\nby Maria Edgeworth\\n\\n\\n\\nAUTHOR'S PREFACE\\n\\nThe Prevailing taste of the public for anecdote has been censured and ridiculed by critics who aspire to the character of superior wisdom; but if we consider it in a proper point of view, this taste is an incontestable proof of the good sense and profoundly philosophic temper of the present times. Of the numbers who study, or at least who read history, how few derive any advantage from their labours! The heroes of history are so decked out\""
      ]
     },
     "execution_count": 23,
     "metadata": {},
     "output_type": "execute_result"
    }
   ],
   "source": [
    "# Inspect first item in novel_list\n",
    "\n",
    "novel_list[0][:500]"
   ]
  },
  {
   "cell_type": "markdown",
   "metadata": {},
   "source": [
    "## Pre-Processing\n",
    "Word2Vec learns about the relationships among words by observing them in context. This means that we want to split our texts into word-units. However, we  want to maintain sentence boundaries as well, since the last word of the previous sentence might skew the meaning of the next sentence.\n",
    "\n",
    "Since novels were imported as single strings, we'll first use <i>sent_tokenize</i> to divide them into sentences, and second, we'll split each sentence into its own list of words."
   ]
  },
  {
   "cell_type": "code",
   "execution_count": 24,
   "metadata": {
    "tags": []
   },
   "outputs": [],
   "source": [
    "# Split each novel into sentences\n",
    "\n",
    "sentences = [sentence for novel in novel_list for sentence in sent_tokenize(novel)]"
   ]
  },
  {
   "cell_type": "code",
   "execution_count": 25,
   "metadata": {
    "tags": []
   },
   "outputs": [
    {
     "data": {
      "text/plain": [
       "\"CASTLE RACKRENT\\n\\nby Maria Edgeworth\\n\\n\\n\\nAUTHOR'S PREFACE\\n\\nThe Prevailing taste of the public for anecdote has been censured and ridiculed by critics who aspire to the character of superior wisdom; but if we consider it in a proper point of view, this taste is an incontestable proof of the good sense and profoundly philosophic temper of the present times.\""
      ]
     },
     "execution_count": 25,
     "metadata": {},
     "output_type": "execute_result"
    }
   ],
   "source": [
    "# Inspect first sentence\n",
    "\n",
    "sentences[0]"
   ]
  },
  {
   "cell_type": "code",
   "execution_count": 26,
   "metadata": {
    "tags": []
   },
   "outputs": [],
   "source": [
    "# Split each sentence into tokens\n",
    "\n",
    "words_by_sentence = [fast_tokenize(sentence) for sentence in sentences]"
   ]
  },
  {
   "cell_type": "code",
   "execution_count": 27,
   "metadata": {
    "tags": []
   },
   "outputs": [],
   "source": [
    "# Remove any sentences that contain zero tokens\n",
    "\n",
    "words_by_sentence = [sentence for sentence in words_by_sentence if sentence != []]"
   ]
  },
  {
   "cell_type": "code",
   "execution_count": 28,
   "metadata": {
    "scrolled": true,
    "tags": []
   },
   "outputs": [
    {
     "data": {
      "text/plain": [
       "['castle',\n",
       " 'rackrent',\n",
       " 'by',\n",
       " 'maria',\n",
       " 'edgeworth',\n",
       " 'authors',\n",
       " 'preface',\n",
       " 'the',\n",
       " 'prevailing',\n",
       " 'taste',\n",
       " 'of',\n",
       " 'the',\n",
       " 'public',\n",
       " 'for',\n",
       " 'anecdote',\n",
       " 'has',\n",
       " 'been',\n",
       " 'censured',\n",
       " 'and',\n",
       " 'ridiculed',\n",
       " 'by',\n",
       " 'critics',\n",
       " 'who',\n",
       " 'aspire',\n",
       " 'to',\n",
       " 'the',\n",
       " 'character',\n",
       " 'of',\n",
       " 'superior',\n",
       " 'wisdom',\n",
       " 'but',\n",
       " 'if',\n",
       " 'we',\n",
       " 'consider',\n",
       " 'it',\n",
       " 'in',\n",
       " 'a',\n",
       " 'proper',\n",
       " 'point',\n",
       " 'of',\n",
       " 'view',\n",
       " 'this',\n",
       " 'taste',\n",
       " 'is',\n",
       " 'an',\n",
       " 'incontestable',\n",
       " 'proof',\n",
       " 'of',\n",
       " 'the',\n",
       " 'good',\n",
       " 'sense',\n",
       " 'and',\n",
       " 'profoundly',\n",
       " 'philosophic',\n",
       " 'temper',\n",
       " 'of',\n",
       " 'the',\n",
       " 'present',\n",
       " 'times']"
      ]
     },
     "execution_count": 28,
     "metadata": {},
     "output_type": "execute_result"
    }
   ],
   "source": [
    "# Inspect first sentence\n",
    "\n",
    "words_by_sentence[0]"
   ]
  },
  {
   "cell_type": "markdown",
   "metadata": {},
   "source": [
    "# 2. Word2Vec"
   ]
  },
  {
   "cell_type": "markdown",
   "metadata": {},
   "source": [
    "### Word Embedding\n",
    "Word2Vec is the most prominent word embedding algorithm. Word embedding generally attempts to identify semantic relationships between words by observing them in context.\n",
    "\n",
    "Imagine that each word in a novel has its meaning determined by the ones that surround it in a limited window. For example, in Moby Dick's first sentence, “me” is paired on either side by “Call” and “Ishmael.” After observing the windows around every word in the novel (or many novels), the computer will notice a pattern in which “me” falls between similar pairs of words to “her,” “him,” or “them.” Of course, the computer had gone through a similar process over the words “Call” and “Ishmael,” for which “me” is reciprocally part of their contexts.  This chaining of signifiers to one another mirrors some of humanists' most sophisticated interpretative frameworks of language.\n",
    "\n",
    "The two main flavors of Word2Vec are CBOW (Continuous Bag of Words) and Skip-Gram, which can be distinguished partly by their input and output during training. Skip-Gram takes a word of interest as its input (e.g. \"me\") and tries to learn how to predict its context words (\"Call\",\"Ishmael\"). CBOW does the opposite, taking the context words (\"Call\",\"Ishmael\") as a single input and tries to predict the word of interest (\"me\").\n",
    "\n",
    "In general, CBOW is is faster and does well with frequent words, while Skip-Gram potentially represents rare words better.\n",
    "\n",
    "### Word2Vec Features\n",
    "<ul>\n",
    "<li>Size: Number of dimensions for word embedding model</li>\n",
    "<li>Window: Number of context words to observe in each direction</li>\n",
    "<li>min_count: Minimum frequency for words included in model</li>\n",
    "<li>sg (Skip-Gram): '0' indicates CBOW model; '1' indicates Skip-Gram</li>\n",
    "<li>Alpha: Learning rate (initial); prevents model from over-correcting, enables finer tuning</li>\n",
    "<li>Iterations: Number of passes through dataset</li>\n",
    "<li>Batch Size: Number of words to sample from data during each pass</li>\n",
    "</ul>\n",
    "\n",
    "Note: Script uses default value for each argument"
   ]
  },
  {
   "cell_type": "markdown",
   "metadata": {},
   "source": [
    "## Training"
   ]
  },
  {
   "cell_type": "code",
   "execution_count": 29,
   "metadata": {
    "scrolled": true,
    "tags": []
   },
   "outputs": [],
   "source": [
    "# Train word2vec model from txtLab corpus\n",
    "\n",
    "model = gensim.models.Word2Vec(words_by_sentence, vector_size=100, window=5, \\\n",
    "                               min_count=25, sg=1, alpha=0.025, epochs=5, batch_words=10000)"
   ]
  },
  {
   "cell_type": "markdown",
   "metadata": {},
   "source": [
    "## Embeddings"
   ]
  },
  {
   "cell_type": "code",
   "execution_count": 61,
   "metadata": {
    "scrolled": true,
    "tags": []
   },
   "outputs": [
    {
     "data": {
      "text/plain": [
       "array([-0.14873211, -0.170264  ,  0.07249684, -0.18474011,  0.27443808,\n",
       "       -0.18976825,  0.37221515, -0.09149109,  0.07806563, -0.16237424,\n",
       "       -0.42038494, -0.23611537, -0.48035005, -0.07719437,  0.25475392,\n",
       "        0.1605406 ,  0.0735096 , -0.2502507 ,  0.32156307, -0.49072006,\n",
       "       -0.14230388,  0.35752273, -0.37919787, -0.2521083 , -0.25124183,\n",
       "        0.09341101, -0.18515168, -0.42983553,  0.0478033 , -0.17305823,\n",
       "        0.37916207, -0.23138903,  0.36686322, -0.38763857, -0.11168129,\n",
       "       -0.04483878,  0.41090998,  0.13859716, -0.19969642, -0.17465894,\n",
       "       -0.32696456,  0.5607051 , -0.05650136, -0.14411841,  0.12049296,\n",
       "       -0.5897052 , -0.17884837,  0.07950846, -0.23241791,  0.37549314,\n",
       "       -0.08861349, -0.3265947 ,  0.08419446,  0.06259415,  0.13753161,\n",
       "        0.15919207,  0.20831177, -0.45081514, -0.09940217,  0.39255378,\n",
       "        0.56009996, -0.28351116,  0.74990016, -0.10981544, -0.39165068,\n",
       "       -0.25037813,  0.6311367 ,  0.20354532, -0.17093053,  0.4866229 ,\n",
       "       -0.20367073,  0.2662527 ,  0.05634087, -0.08353691,  0.08721789,\n",
       "       -0.24445541, -0.28362212, -0.3115828 ,  0.19665796,  0.14245561,\n",
       "        0.29846346, -0.6038558 ,  0.11180647,  0.61879313,  0.10741531,\n",
       "       -0.5903557 , -0.21097007,  0.39886767,  0.49759158,  0.50969636,\n",
       "        0.50038487, -0.07324816,  0.21398067,  0.20498246,  0.73049206,\n",
       "        0.38871512, -0.5515532 , -0.6698772 , -0.6814255 , -0.09036088],\n",
       "      dtype=float32)"
      ]
     },
     "execution_count": 61,
     "metadata": {},
     "output_type": "execute_result"
    }
   ],
   "source": [
    "# Return dense word vector\n",
    "\n",
    "model.wv.get_vector('whale')"
   ]
  },
  {
   "cell_type": "markdown",
   "metadata": {},
   "source": [
    "## Vector-Space Operations"
   ]
  },
  {
   "cell_type": "markdown",
   "metadata": {},
   "source": [
    "### Similarity\n",
    "Since words are represented as dense vectors, we can ask how similiar words' meanings are based on their cosine similarity (essentially how much they overlap). <em>gensim</em> has a few out-of-the-box functions that enable different kinds of comparisons."
   ]
  },
  {
   "cell_type": "code",
   "execution_count": 62,
   "metadata": {
    "tags": []
   },
   "outputs": [
    {
     "data": {
      "text/plain": [
       "0.6483016"
      ]
     },
     "execution_count": 62,
     "metadata": {},
     "output_type": "execute_result"
    }
   ],
   "source": [
    "# Find cosine distance between two given word vectors\n",
    "\n",
    "model.wv.similarity('pride','prejudice')"
   ]
  },
  {
   "cell_type": "code",
   "execution_count": 63,
   "metadata": {
    "tags": []
   },
   "outputs": [
    {
     "data": {
      "text/plain": [
       "[('unworthiness', 0.7151303887367249),\n",
       " ('vanity', 0.7100105881690979),\n",
       " ('inexperience', 0.7088930606842041),\n",
       " ('selfishness', 0.7040213346481323),\n",
       " ('unselfishness', 0.7032912373542786),\n",
       " ('selfconceit', 0.6993561387062073),\n",
       " ('egotism', 0.6951319575309753),\n",
       " ('undeserved', 0.6921435594558716),\n",
       " ('conceit', 0.6918672919273376),\n",
       " ('detestation', 0.6912875771522522)]"
      ]
     },
     "execution_count": 63,
     "metadata": {},
     "output_type": "execute_result"
    }
   ],
   "source": [
    "# Find nearest word vectors by cosine distance\n",
    "\n",
    "model.wv.most_similar('pride')"
   ]
  },
  {
   "cell_type": "code",
   "execution_count": 64,
   "metadata": {
    "tags": []
   },
   "outputs": [
    {
     "data": {
      "text/plain": [
       "'whale'"
      ]
     },
     "execution_count": 64,
     "metadata": {},
     "output_type": "execute_result"
    }
   ],
   "source": [
    "# Given a list of words, we can ask which doesn't belong\n",
    "\n",
    "# Finds mean vector of words in list\n",
    "# and identifies the word further from that mean\n",
    "\n",
    "model.wv.doesnt_match(['pride','prejudice', 'whale'])"
   ]
  },
  {
   "cell_type": "markdown",
   "metadata": {},
   "source": [
    "### Multiple Valences\n",
    "A word embedding may encode both primary and secondary meanings that are both present at the same time. In order to identify secondary meanings in a word, we can subtract the vectors of primary (or simply unwanted) meanings. For example, we may wish to remove the sense of <em>river bank</em> from the word <em>bank</em>. This would be written mathetmatically as <em>RIVER - BANK</em>, which in <em>gensim</em>'s interface lists <em>RIVER</em> as a positive meaning and <em>BANK</em> as a negative one."
   ]
  },
  {
   "cell_type": "code",
   "execution_count": 34,
   "metadata": {
    "tags": []
   },
   "outputs": [
    {
     "data": {
      "text/plain": [
       "[('creek', 0.7408864498138428),\n",
       " ('bridge', 0.7212304472923279),\n",
       " ('thames', 0.7179105877876282),\n",
       " ('flats', 0.7168617844581604),\n",
       " ('bus', 0.708573043346405),\n",
       " ('river', 0.7077854871749878),\n",
       " ('footpath', 0.6991929411888123),\n",
       " ('illinois', 0.6984492540359497),\n",
       " ('cove', 0.6916406750679016),\n",
       " ('banks', 0.6886194944381714)]"
      ]
     },
     "execution_count": 34,
     "metadata": {},
     "output_type": "execute_result"
    }
   ],
   "source": [
    "# Get most similar words to BANK, in order\n",
    "# to get a sense for its primary meaning\n",
    "\n",
    "model.wv.most_similar('bank')"
   ]
  },
  {
   "cell_type": "code",
   "execution_count": 35,
   "metadata": {
    "tags": []
   },
   "outputs": [
    {
     "data": {
      "text/plain": [
       "[('fee', 0.4184354841709137),\n",
       " ('loan', 0.4112319052219391),\n",
       " ('secondhand', 0.40805837512016296),\n",
       " ('prospective', 0.40478742122650146),\n",
       " ('clerk', 0.3935704529285431),\n",
       " ('treasury', 0.39064064621925354),\n",
       " ('junior', 0.38993191719055176),\n",
       " ('stated', 0.3886120319366455),\n",
       " ('solicitor', 0.3883594572544098),\n",
       " ('medical', 0.3880781829357147)]"
      ]
     },
     "execution_count": 35,
     "metadata": {},
     "output_type": "execute_result"
    }
   ],
   "source": [
    "# Remove the sense of \"river bank\" from \"bank\" and see what is left\n",
    "\n",
    "model.wv.most_similar(positive=['bank'], negative=['river'])"
   ]
  },
  {
   "cell_type": "markdown",
   "metadata": {},
   "source": [
    "### Analogy\n",
    "Analogies are rendered as simple mathematical operations in vector space. For example, the canonic word2vec analogy <em>MAN is to KING as WOMAN is to ??</em> is rendered as <em>KING - MAN + WOMAN</em>. In the gensim interface, we designate <em>KING</em> and <em>WOMAN</em> as positive terms and <em>MAN</em> as a negative term, since it is subtracted from those."
   ]
  },
  {
   "cell_type": "code",
   "execution_count": 36,
   "metadata": {
    "tags": []
   },
   "outputs": [
    {
     "data": {
      "text/plain": [
       "[('kings', 0.7256535887718201),\n",
       " ('conqueror', 0.7172598242759705),\n",
       " ('emperor', 0.7106183171272278),\n",
       " ('duke', 0.7050772309303284),\n",
       " ('justicer', 0.7004454731941223),\n",
       " ('defender', 0.6840095520019531),\n",
       " ('marquis', 0.6786829829216003),\n",
       " ('karl', 0.6769707798957825),\n",
       " ('monarch', 0.6751025915145874),\n",
       " ('odin', 0.6748215556144714)]"
      ]
     },
     "execution_count": 36,
     "metadata": {},
     "output_type": "execute_result"
    }
   ],
   "source": [
    "# Get most similar words to KING, in order\n",
    "# to get a sense for its primary meaning\n",
    "\n",
    "model.wv.most_similar('king')"
   ]
  },
  {
   "cell_type": "code",
   "execution_count": 37,
   "metadata": {
    "tags": []
   },
   "outputs": [
    {
     "data": {
      "text/plain": [
       "[('queen', 0.7616111636161804),\n",
       " ('princess', 0.7558063268661499),\n",
       " ('marquis', 0.6606212258338928),\n",
       " ('consort', 0.6379956603050232),\n",
       " ('duchess', 0.6163626313209534),\n",
       " ('priestess', 0.6103089451789856),\n",
       " ('evremonde', 0.6083817481994629),\n",
       " ('goddess', 0.6068000197410583),\n",
       " ('steyne', 0.6026056408882141),\n",
       " ('virgins', 0.599739670753479)]"
      ]
     },
     "execution_count": 37,
     "metadata": {},
     "output_type": "execute_result"
    }
   ],
   "source": [
    "# The canonic word2vec analogy: King - Man + Woman -> Queen\n",
    "\n",
    "model.wv.most_similar(positive=['woman', 'king'], negative=['man'])"
   ]
  },
  {
   "cell_type": "markdown",
   "metadata": {},
   "source": [
    "### Gendered Vectors\n",
    "Can we find gender a la Schmidt (2015)? (Note that this method uses vector projection, whereas Schmidt had used rejection.)"
   ]
  },
  {
   "cell_type": "code",
   "execution_count": 38,
   "metadata": {
    "scrolled": true,
    "tags": []
   },
   "outputs": [
    {
     "data": {
      "text/plain": [
       "[('emmeline', 0.45318713784217834),\n",
       " ('fragile', 0.4424145519733429),\n",
       " ('anne', 0.4318113625049591),\n",
       " ('lucy', 0.42833396792411804),\n",
       " ('feminine', 0.38893333077430725),\n",
       " ('helen', 0.3887633681297302),\n",
       " ('aunt', 0.3869034945964813),\n",
       " ('husbands', 0.3768984079360962),\n",
       " ('elizabeth', 0.36982712149620056),\n",
       " ('lizzie', 0.3662615418434143)]"
      ]
     },
     "execution_count": 38,
     "metadata": {},
     "output_type": "execute_result"
    }
   ],
   "source": [
    "# Feminine Vector\n",
    "\n",
    "model.wv.most_similar(positive=['she','her','hers','herself'], negative=['he','him','his','himself'])"
   ]
  },
  {
   "cell_type": "code",
   "execution_count": 39,
   "metadata": {
    "tags": []
   },
   "outputs": [
    {
     "data": {
      "text/plain": [
       "[('boss', 0.3758390247821808),\n",
       " ('buck', 0.3735503554344177),\n",
       " ('clerk', 0.3701951205730438),\n",
       " ('sheriffs', 0.36302605271339417),\n",
       " ('spurred', 0.3580877184867859),\n",
       " ('sheriff', 0.35528457164764404),\n",
       " ('bicycle', 0.3531251549720764),\n",
       " ('horse', 0.34641534090042114),\n",
       " ('posse', 0.3455851674079895),\n",
       " ('bar', 0.3421700894832611)]"
      ]
     },
     "execution_count": 39,
     "metadata": {},
     "output_type": "execute_result"
    }
   ],
   "source": [
    "# Masculine Vector\n",
    "\n",
    "model.wv.most_similar(positive=['he','him','his','himself'], negative=['she','her','hers','herself'])"
   ]
  },
  {
   "cell_type": "markdown",
   "metadata": {},
   "source": [
    "## Visualization"
   ]
  },
  {
   "cell_type": "code",
   "execution_count": 40,
   "metadata": {
    "tags": []
   },
   "outputs": [
    {
     "data": {
      "text/plain": [
       "{'the': 0,\n",
       " 'and': 1,\n",
       " 'of': 2,\n",
       " 'to': 3,\n",
       " 'a': 4,\n",
       " 'in': 5,\n",
       " 'i': 6,\n",
       " 'was': 7,\n",
       " 'he': 8,\n",
       " 'that': 9,\n",
       " 'her': 10,\n",
       " 'it': 11,\n",
       " 'his': 12,\n",
       " 'you': 13,\n",
       " 'she': 14,\n",
       " 'had': 15,\n",
       " 'with': 16,\n",
       " 'as': 17,\n",
       " 'for': 18,\n",
       " 'not': 19,\n",
       " 'but': 20,\n",
       " 'at': 21,\n",
       " 'be': 22,\n",
       " 'on': 23,\n",
       " 'is': 24,\n",
       " 'him': 25,\n",
       " 'my': 26,\n",
       " 'have': 27,\n",
       " 'me': 28,\n",
       " 'said': 29,\n",
       " 'all': 30,\n",
       " 'which': 31,\n",
       " 'by': 32,\n",
       " 'so': 33,\n",
       " 'this': 34,\n",
       " 'from': 35,\n",
       " 'they': 36,\n",
       " 'were': 37,\n",
       " 'would': 38,\n",
       " 'no': 39,\n",
       " 'one': 40,\n",
       " 'if': 41,\n",
       " 'there': 42,\n",
       " 'been': 43,\n",
       " 'an': 44,\n",
       " 'what': 45,\n",
       " 'when': 46,\n",
       " 'or': 47,\n",
       " 'could': 48,\n",
       " 'who': 49,\n",
       " 'them': 50,\n",
       " 'do': 51,\n",
       " 'their': 52,\n",
       " 'we': 53,\n",
       " 'out': 54,\n",
       " 'up': 55,\n",
       " 'will': 56,\n",
       " 'are': 57,\n",
       " 'very': 58,\n",
       " 'your': 59,\n",
       " 'more': 60,\n",
       " 'now': 61,\n",
       " 'then': 62,\n",
       " 'mr': 63,\n",
       " 'little': 64,\n",
       " 'into': 65,\n",
       " 'about': 66,\n",
       " 'some': 67,\n",
       " 'like': 68,\n",
       " 'than': 69,\n",
       " 'did': 70,\n",
       " 'man': 71,\n",
       " 'time': 72,\n",
       " 'any': 73,\n",
       " 'only': 74,\n",
       " 'know': 75,\n",
       " 'see': 76,\n",
       " 'never': 77,\n",
       " 'its': 78,\n",
       " 'should': 79,\n",
       " 'upon': 80,\n",
       " 'well': 81,\n",
       " 'has': 82,\n",
       " 'much': 83,\n",
       " 'such': 84,\n",
       " 'how': 85,\n",
       " 'before': 86,\n",
       " 'mrs': 87,\n",
       " 'must': 88,\n",
       " 'over': 89,\n",
       " 'after': 90,\n",
       " 'own': 91,\n",
       " 'down': 92,\n",
       " 'come': 93,\n",
       " 'good': 94,\n",
       " 'think': 95,\n",
       " 'made': 96,\n",
       " 'can': 97,\n",
       " 'other': 98,\n",
       " 'go': 99,\n",
       " 'old': 100,\n",
       " 'say': 101,\n",
       " 'might': 102,\n",
       " 'am': 103,\n",
       " 'too': 104,\n",
       " 'again': 105,\n",
       " 'thought': 106,\n",
       " 'himself': 107,\n",
       " 'great': 108,\n",
       " 'two': 109,\n",
       " 'way': 110,\n",
       " 'came': 111,\n",
       " 'our': 112,\n",
       " 'long': 113,\n",
       " 'first': 114,\n",
       " 'dont': 115,\n",
       " 'may': 116,\n",
       " 'day': 117,\n",
       " 'back': 118,\n",
       " 'here': 119,\n",
       " 'us': 120,\n",
       " 'even': 121,\n",
       " 'eyes': 122,\n",
       " 'where': 123,\n",
       " 'went': 124,\n",
       " 'life': 125,\n",
       " 'miss': 126,\n",
       " 'make': 127,\n",
       " 'these': 128,\n",
       " 'every': 129,\n",
       " 'just': 130,\n",
       " 'away': 131,\n",
       " 'last': 132,\n",
       " 'shall': 133,\n",
       " 'young': 134,\n",
       " 'hand': 135,\n",
       " 'still': 136,\n",
       " 'yet': 137,\n",
       " 'most': 138,\n",
       " 'without': 139,\n",
       " 'being': 140,\n",
       " 'though': 141,\n",
       " 'ever': 142,\n",
       " 'nothing': 143,\n",
       " 'lady': 144,\n",
       " 'face': 145,\n",
       " 'looked': 146,\n",
       " 'seemed': 147,\n",
       " 'look': 148,\n",
       " 'through': 149,\n",
       " 'house': 150,\n",
       " 'tell': 151,\n",
       " 'those': 152,\n",
       " 'while': 153,\n",
       " 'herself': 154,\n",
       " 'always': 155,\n",
       " 'take': 156,\n",
       " 'once': 157,\n",
       " 'men': 158,\n",
       " 'mind': 159,\n",
       " 'father': 160,\n",
       " 'love': 161,\n",
       " 'let': 162,\n",
       " 'off': 163,\n",
       " 'why': 164,\n",
       " 'head': 165,\n",
       " 'saw': 166,\n",
       " 'get': 167,\n",
       " 'mother': 168,\n",
       " 'moment': 169,\n",
       " 'knew': 170,\n",
       " 'many': 171,\n",
       " 'room': 172,\n",
       " 'quite': 173,\n",
       " 'heart': 174,\n",
       " 'sir': 175,\n",
       " 'place': 176,\n",
       " 'poor': 177,\n",
       " 'something': 178,\n",
       " 'left': 179,\n",
       " 'felt': 180,\n",
       " 'things': 181,\n",
       " 'right': 182,\n",
       " 'took': 183,\n",
       " 'going': 184,\n",
       " 'found': 185,\n",
       " 'thing': 186,\n",
       " 'heard': 187,\n",
       " 'people': 188,\n",
       " 'put': 189,\n",
       " 'oh': 190,\n",
       " 'dear': 191,\n",
       " 'night': 192,\n",
       " 'better': 193,\n",
       " 'under': 194,\n",
       " 'another': 195,\n",
       " 'got': 196,\n",
       " 'same': 197,\n",
       " 'give': 198,\n",
       " 'home': 199,\n",
       " 'asked': 200,\n",
       " 'enough': 201,\n",
       " 'told': 202,\n",
       " 'door': 203,\n",
       " 'new': 204,\n",
       " 'done': 205,\n",
       " 'woman': 206,\n",
       " 'world': 207,\n",
       " 'against': 208,\n",
       " 'yes': 209,\n",
       " 'because': 210,\n",
       " 'voice': 211,\n",
       " 'rather': 212,\n",
       " 'myself': 213,\n",
       " 'want': 214,\n",
       " 'few': 215,\n",
       " 'between': 216,\n",
       " 'almost': 217,\n",
       " 'seen': 218,\n",
       " 'hands': 219,\n",
       " 'perhaps': 220,\n",
       " 'having': 221,\n",
       " 'till': 222,\n",
       " 'however': 223,\n",
       " 'turned': 224,\n",
       " 'far': 225,\n",
       " 'whom': 226,\n",
       " 'morning': 227,\n",
       " 'soon': 228,\n",
       " 'three': 229,\n",
       " 'round': 230,\n",
       " 'course': 231,\n",
       " 'stood': 232,\n",
       " 'indeed': 233,\n",
       " 'words': 234,\n",
       " 'side': 235,\n",
       " 'years': 236,\n",
       " 'sure': 237,\n",
       " 'anything': 238,\n",
       " 'looking': 239,\n",
       " 'friend': 240,\n",
       " 'both': 241,\n",
       " 'began': 242,\n",
       " 'each': 243,\n",
       " 'whole': 244,\n",
       " 'ill': 245,\n",
       " 'hope': 246,\n",
       " 'part': 247,\n",
       " 'work': 248,\n",
       " 'im': 249,\n",
       " 'find': 250,\n",
       " 'kind': 251,\n",
       " 'gave': 252,\n",
       " 'word': 253,\n",
       " 'believe': 254,\n",
       " 'half': 255,\n",
       " 'days': 256,\n",
       " 'sat': 257,\n",
       " 'since': 258,\n",
       " 'hear': 259,\n",
       " 'light': 260,\n",
       " 'speak': 261,\n",
       " 'name': 262,\n",
       " 'wife': 263,\n",
       " 'gone': 264,\n",
       " 'white': 265,\n",
       " 'nor': 266,\n",
       " 'cried': 267,\n",
       " 'answered': 268,\n",
       " 'lord': 269,\n",
       " 'really': 270,\n",
       " 'best': 271,\n",
       " 'next': 272,\n",
       " 'among': 273,\n",
       " 'end': 274,\n",
       " 'called': 275,\n",
       " 'wish': 276,\n",
       " 'girl': 277,\n",
       " 'feel': 278,\n",
       " 'set': 279,\n",
       " 'brought': 280,\n",
       " 'together': 281,\n",
       " 'full': 282,\n",
       " 'child': 283,\n",
       " 'alone': 284,\n",
       " 'keep': 285,\n",
       " 'passed': 286,\n",
       " 'leave': 287,\n",
       " 'whose': 288,\n",
       " 'replied': 289,\n",
       " 'least': 290,\n",
       " 'money': 291,\n",
       " 'air': 292,\n",
       " 'often': 293,\n",
       " 'matter': 294,\n",
       " 'family': 295,\n",
       " 'o': 296,\n",
       " 'does': 297,\n",
       " 'talk': 298,\n",
       " 'cannot': 299,\n",
       " 'help': 300,\n",
       " 'evening': 301,\n",
       " 'god': 302,\n",
       " 'less': 303,\n",
       " 'manner': 304,\n",
       " 'present': 305,\n",
       " 'hour': 306,\n",
       " 'mean': 307,\n",
       " 'letter': 308,\n",
       " 'towards': 309,\n",
       " 'friends': 310,\n",
       " 'cant': 311,\n",
       " 'taken': 312,\n",
       " 'small': 313,\n",
       " 'feeling': 314,\n",
       " 'rose': 315,\n",
       " 'open': 316,\n",
       " 'business': 317,\n",
       " 'boy': 318,\n",
       " 'coming': 319,\n",
       " 'care': 320,\n",
       " 'behind': 321,\n",
       " 'spoke': 322,\n",
       " 'read': 323,\n",
       " 'also': 324,\n",
       " 'john': 325,\n",
       " 'lay': 326,\n",
       " 'ask': 327,\n",
       " 'husband': 328,\n",
       " 'whether': 329,\n",
       " 'thou': 330,\n",
       " 'happy': 331,\n",
       " 'children': 332,\n",
       " 'dark': 333,\n",
       " 'answer': 334,\n",
       " 'black': 335,\n",
       " 'true': 336,\n",
       " 'call': 337,\n",
       " 'rest': 338,\n",
       " 'along': 339,\n",
       " 'given': 340,\n",
       " 'others': 341,\n",
       " 'suddenly': 342,\n",
       " 'death': 343,\n",
       " 'near': 344,\n",
       " 'suppose': 345,\n",
       " 'thats': 346,\n",
       " 'says': 347,\n",
       " 'women': 348,\n",
       " 'hard': 349,\n",
       " 'already': 350,\n",
       " 'sort': 351,\n",
       " 'returned': 352,\n",
       " 'within': 353,\n",
       " 'certain': 354,\n",
       " 'chapter': 355,\n",
       " 'table': 356,\n",
       " 'used': 357,\n",
       " 'themselves': 358,\n",
       " 'margaret': 359,\n",
       " 'everything': 360,\n",
       " 'kept': 361,\n",
       " 'high': 362,\n",
       " 'times': 363,\n",
       " 'person': 364,\n",
       " 'else': 365,\n",
       " 'sense': 366,\n",
       " 'either': 367,\n",
       " 'large': 368,\n",
       " 'making': 369,\n",
       " 'fire': 370,\n",
       " 'country': 371,\n",
       " 'until': 372,\n",
       " 'known': 373,\n",
       " 'wanted': 374,\n",
       " 'certainly': 375,\n",
       " 'held': 376,\n",
       " 'power': 377,\n",
       " 'lost': 378,\n",
       " 'master': 379,\n",
       " 'strange': 380,\n",
       " 'street': 381,\n",
       " 'sister': 382,\n",
       " 'pretty': 383,\n",
       " 'nature': 384,\n",
       " 'feet': 385,\n",
       " 'yourself': 386,\n",
       " 'remember': 387,\n",
       " 'idea': 388,\n",
       " 'itself': 389,\n",
       " 'continued': 390,\n",
       " 'strong': 391,\n",
       " 'question': 392,\n",
       " 'ought': 393,\n",
       " 'bed': 394,\n",
       " 'ive': 395,\n",
       " 'live': 396,\n",
       " 'truth': 397,\n",
       " 'doubt': 398,\n",
       " 'fear': 399,\n",
       " 'reason': 400,\n",
       " 'case': 401,\n",
       " 'fell': 402,\n",
       " 'understand': 403,\n",
       " 'window': 404,\n",
       " 'arms': 405,\n",
       " 'dead': 406,\n",
       " 'short': 407,\n",
       " 'fact': 408,\n",
       " 'possible': 409,\n",
       " 'wont': 410,\n",
       " 'sometimes': 411,\n",
       " 'during': 412,\n",
       " 'son': 413,\n",
       " 'thus': 414,\n",
       " 'hair': 415,\n",
       " 'above': 416,\n",
       " 'eye': 417,\n",
       " 'met': 418,\n",
       " 'saying': 419,\n",
       " 'brother': 420,\n",
       " 'return': 421,\n",
       " 'walked': 422,\n",
       " 'soul': 423,\n",
       " 'silence': 424,\n",
       " 'beautiful': 425,\n",
       " 'turn': 426,\n",
       " 'close': 427,\n",
       " 'daughter': 428,\n",
       " 'fine': 429,\n",
       " 'point': 430,\n",
       " 'aunt': 431,\n",
       " 'appeared': 432,\n",
       " 'gentleman': 433,\n",
       " 'didnt': 434,\n",
       " 'added': 435,\n",
       " 'glad': 436,\n",
       " 'sight': 437,\n",
       " 'water': 438,\n",
       " 'subject': 439,\n",
       " 'arm': 440,\n",
       " 'year': 441,\n",
       " 'tone': 442,\n",
       " 'across': 443,\n",
       " 'afraid': 444,\n",
       " 'use': 445,\n",
       " 'became': 446,\n",
       " 'low': 447,\n",
       " 'bad': 448,\n",
       " 'exclaimed': 449,\n",
       " 'means': 450,\n",
       " 'tom': 451,\n",
       " 'around': 452,\n",
       " 'hours': 453,\n",
       " 'state': 454,\n",
       " 'sent': 455,\n",
       " 'doing': 456,\n",
       " 'taking': 457,\n",
       " 'late': 458,\n",
       " 'tried': 459,\n",
       " 'thinking': 460,\n",
       " 'ready': 461,\n",
       " 'pleasure': 462,\n",
       " 'longer': 463,\n",
       " 'red': 464,\n",
       " 'london': 465,\n",
       " 'cold': 466,\n",
       " 'neither': 467,\n",
       " 'past': 468,\n",
       " 'change': 469,\n",
       " 'followed': 470,\n",
       " 'order': 471,\n",
       " 'smile': 472,\n",
       " 'interest': 473,\n",
       " 'town': 474,\n",
       " 'lips': 475,\n",
       " 'quiet': 476,\n",
       " 'hardly': 477,\n",
       " 'ye': 478,\n",
       " 'become': 479,\n",
       " 'deep': 480,\n",
       " 'body': 481,\n",
       " 'opened': 482,\n",
       " 'entered': 483,\n",
       " 'need': 484,\n",
       " 'five': 485,\n",
       " 'thee': 486,\n",
       " 'forward': 487,\n",
       " 'able': 488,\n",
       " 'theres': 489,\n",
       " 'bring': 490,\n",
       " 'spirit': 491,\n",
       " 'sound': 492,\n",
       " 'deal': 493,\n",
       " 'fellow': 494,\n",
       " 'four': 495,\n",
       " 'show': 496,\n",
       " 'walk': 497,\n",
       " 'hold': 498,\n",
       " 'loved': 499,\n",
       " 'thy': 500,\n",
       " 'therefore': 501,\n",
       " 'conversation': 502,\n",
       " 'minutes': 503,\n",
       " 'ah': 504,\n",
       " 'ten': 505,\n",
       " 'none': 506,\n",
       " 'party': 507,\n",
       " 'mine': 508,\n",
       " 'tears': 509,\n",
       " 'dinner': 510,\n",
       " 'hundred': 511,\n",
       " 'thoughts': 512,\n",
       " 'road': 513,\n",
       " 'meet': 514,\n",
       " 'character': 515,\n",
       " 'hes': 516,\n",
       " 'silent': 517,\n",
       " 'try': 518,\n",
       " 'girls': 519,\n",
       " 'trouble': 520,\n",
       " 'received': 521,\n",
       " 'human': 522,\n",
       " 'ground': 523,\n",
       " 'general': 524,\n",
       " 'fair': 525,\n",
       " 'beauty': 526,\n",
       " 'usual': 527,\n",
       " 'married': 528,\n",
       " 'bear': 529,\n",
       " 'church': 530,\n",
       " 'different': 531,\n",
       " 'second': 532,\n",
       " 'wonder': 533,\n",
       " 'laura': 534,\n",
       " 'early': 535,\n",
       " 'feelings': 536,\n",
       " 'stand': 537,\n",
       " 'seeing': 538,\n",
       " 'beyond': 539,\n",
       " 'book': 540,\n",
       " 'real': 541,\n",
       " 'chair': 542,\n",
       " 'except': 543,\n",
       " 'length': 544,\n",
       " 'talking': 545,\n",
       " 'seem': 546,\n",
       " 'youre': 547,\n",
       " 'fathers': 548,\n",
       " 'week': 549,\n",
       " 'standing': 550,\n",
       " 'wrong': 551,\n",
       " 'mary': 552,\n",
       " 'thousand': 553,\n",
       " 'seems': 554,\n",
       " 'stay': 555,\n",
       " 'company': 556,\n",
       " 'laid': 557,\n",
       " 'english': 558,\n",
       " 'chance': 559,\n",
       " 'drew': 560,\n",
       " 'presence': 561,\n",
       " 'sitting': 562,\n",
       " 'nearly': 563,\n",
       " 'several': 564,\n",
       " 'scarcely': 565,\n",
       " 'ran': 566,\n",
       " 'sleep': 567,\n",
       " 'attention': 568,\n",
       " 'write': 569,\n",
       " 'natural': 570,\n",
       " 'struck': 571,\n",
       " 'led': 572,\n",
       " 'whatever': 573,\n",
       " 'horse': 574,\n",
       " 'george': 575,\n",
       " 'clear': 576,\n",
       " 'doctor': 577,\n",
       " 'slowly': 578,\n",
       " 'de': 579,\n",
       " 'stopped': 580,\n",
       " 'ago': 581,\n",
       " 'account': 582,\n",
       " 'ladies': 583,\n",
       " 'living': 584,\n",
       " 'wild': 585,\n",
       " 'happened': 586,\n",
       " 'wished': 587,\n",
       " 'cause': 588,\n",
       " 'sit': 589,\n",
       " 'getting': 590,\n",
       " 'dr': 591,\n",
       " 'run': 592,\n",
       " 'story': 593,\n",
       " 'earth': 594,\n",
       " 'speaking': 595,\n",
       " 'lived': 596,\n",
       " '“i': 597,\n",
       " 'wait': 598,\n",
       " 'knows': 599,\n",
       " 'laughed': 600,\n",
       " 'blue': 601,\n",
       " 'reached': 602,\n",
       " 'afternoon': 603,\n",
       " 'immediately': 604,\n",
       " 'uncle': 605,\n",
       " 'edward': 606,\n",
       " 'city': 607,\n",
       " 'sudden': 608,\n",
       " 'mouth': 609,\n",
       " 'heavy': 610,\n",
       " 'comes': 611,\n",
       " 'sun': 612,\n",
       " 'free': 613,\n",
       " 'expression': 614,\n",
       " 'duty': 615,\n",
       " 'robert': 616,\n",
       " 'secret': 617,\n",
       " 'common': 618,\n",
       " 'pay': 619,\n",
       " 'please': 620,\n",
       " 'sea': 621,\n",
       " 'turning': 622,\n",
       " 'society': 623,\n",
       " 'purpose': 624,\n",
       " 'play': 625,\n",
       " 'impossible': 626,\n",
       " 'beside': 627,\n",
       " 'bright': 628,\n",
       " 'effect': 629,\n",
       " 'save': 630,\n",
       " 'moved': 631,\n",
       " 'grey': 632,\n",
       " 'figure': 633,\n",
       " 'forth': 634,\n",
       " 'form': 635,\n",
       " 'blood': 636,\n",
       " 'hall': 637,\n",
       " 'sweet': 638,\n",
       " 'meant': 639,\n",
       " 'front': 640,\n",
       " 'age': 641,\n",
       " 'appearance': 642,\n",
       " 'marry': 643,\n",
       " 'months': 644,\n",
       " 'sorry': 645,\n",
       " 'heaven': 646,\n",
       " 'position': 647,\n",
       " 'pale': 648,\n",
       " 'caught': 649,\n",
       " 'opinion': 650,\n",
       " 'youth': 651,\n",
       " 'trust': 652,\n",
       " 'expected': 653,\n",
       " 'visit': 654,\n",
       " 'honour': 655,\n",
       " 'corner': 656,\n",
       " 'remained': 657,\n",
       " 'madame': 658,\n",
       " 'elizabeth': 659,\n",
       " 'happiness': 660,\n",
       " 'dress': 661,\n",
       " 'big': 662,\n",
       " 'instead': 663,\n",
       " 'further': 664,\n",
       " 'marriage': 665,\n",
       " 'captain': 666,\n",
       " 'desire': 667,\n",
       " 'waiting': 668,\n",
       " 'carried': 669,\n",
       " 'grew': 670,\n",
       " 'broken': 671,\n",
       " 'view': 672,\n",
       " 'sake': 673,\n",
       " 'pass': 674,\n",
       " 'observed': 675,\n",
       " 'ones': 676,\n",
       " 'strength': 677,\n",
       " 'likely': 678,\n",
       " 'send': 679,\n",
       " 'thank': 680,\n",
       " 'minute': 681,\n",
       " 'tomorrow': 682,\n",
       " 'cut': 683,\n",
       " 'six': 684,\n",
       " 'mothers': 685,\n",
       " 'necessary': 686,\n",
       " 'liked': 687,\n",
       " 'pain': 688,\n",
       " 'trying': 689,\n",
       " 'st': 690,\n",
       " 'cousin': 691,\n",
       " 'easy': 692,\n",
       " 'england': 693,\n",
       " 'wouldnt': 694,\n",
       " 'although': 695,\n",
       " 'boys': 696,\n",
       " 'green': 697,\n",
       " 'besides': 698,\n",
       " 'scene': 699,\n",
       " 'pleasant': 700,\n",
       " 'horses': 701,\n",
       " 'instant': 702,\n",
       " 'act': 703,\n",
       " 'bit': 704,\n",
       " 'comfort': 705,\n",
       " 'circumstances': 706,\n",
       " 'today': 707,\n",
       " 'rich': 708,\n",
       " 'leaving': 709,\n",
       " 'books': 710,\n",
       " 'wind': 711,\n",
       " 'object': 712,\n",
       " 'fancy': 713,\n",
       " 'forget': 714,\n",
       " 'spoken': 715,\n",
       " 'step': 716,\n",
       " 'line': 717,\n",
       " 'king': 718,\n",
       " 'garden': 719,\n",
       " 'started': 720,\n",
       " 'future': 721,\n",
       " 'perfectly': 722,\n",
       " 'probably': 723,\n",
       " 'distance': 724,\n",
       " 'giving': 725,\n",
       " 'paper': 726,\n",
       " 'youll': 727,\n",
       " 'foot': 728,\n",
       " 'mans': 729,\n",
       " 'carriage': 730,\n",
       " 'philip': 731,\n",
       " 'laugh': 732,\n",
       " 'charles': 733,\n",
       " 'shook': 734,\n",
       " 'talked': 735,\n",
       " 'anxious': 736,\n",
       " 'river': 737,\n",
       " 'joy': 738,\n",
       " 'amy': 739,\n",
       " 'fall': 740,\n",
       " 'watch': 741,\n",
       " 'die': 742,\n",
       " 'countenance': 743,\n",
       " 'isnt': 744,\n",
       " 'trees': 745,\n",
       " 'worse': 746,\n",
       " 'land': 747,\n",
       " 'art': 748,\n",
       " 'looks': 749,\n",
       " 'note': 750,\n",
       " 'raised': 751,\n",
       " 'mere': 752,\n",
       " 'letters': 753,\n",
       " 'knowledge': 754,\n",
       " 'occasion': 755,\n",
       " 'helen': 756,\n",
       " 'toward': 757,\n",
       " 'hat': 758,\n",
       " 'floor': 759,\n",
       " 'office': 760,\n",
       " 'pleased': 761,\n",
       " 'surely': 762,\n",
       " 'soft': 763,\n",
       " 'showed': 764,\n",
       " 'beginning': 765,\n",
       " 'presently': 766,\n",
       " 'moments': 767,\n",
       " 'makes': 768,\n",
       " 'smiled': 769,\n",
       " 'surprise': 770,\n",
       " 'smiling': 771,\n",
       " 'merely': 772,\n",
       " 'cry': 773,\n",
       " 'entirely': 774,\n",
       " 'determined': 775,\n",
       " 'influence': 776,\n",
       " 'breath': 777,\n",
       " 'tea': 778,\n",
       " 'repeated': 779,\n",
       " 'colonel': 780,\n",
       " 'music': 781,\n",
       " 'exactly': 782,\n",
       " 'companion': 783,\n",
       " 'changed': 784,\n",
       " 'fixed': 785,\n",
       " 'judge': 786,\n",
       " 'danger': 787,\n",
       " 'closed': 788,\n",
       " 'couldnt': 789,\n",
       " 'angry': 790,\n",
       " 'worth': 791,\n",
       " 'died': 792,\n",
       " 'prince': 793,\n",
       " 'perfect': 794,\n",
       " 'broke': 795,\n",
       " 'grave': 796,\n",
       " 'written': 797,\n",
       " 'public': 798,\n",
       " 'shut': 799,\n",
       " 'quick': 800,\n",
       " 'promise': 801,\n",
       " 'creature': 802,\n",
       " 'somewhat': 803,\n",
       " 'dare': 804,\n",
       " 'watched': 805,\n",
       " 'particular': 806,\n",
       " 'service': 807,\n",
       " 'affection': 808,\n",
       " 'stop': 809,\n",
       " 'terrible': 810,\n",
       " 'quickly': 811,\n",
       " 'sisters': 812,\n",
       " 'news': 813,\n",
       " 'glance': 814,\n",
       " 'guy': 815,\n",
       " 'arrived': 816,\n",
       " 'phineas': 817,\n",
       " 'fanny': 818,\n",
       " 'knowing': 819,\n",
       " 'ears': 820,\n",
       " 'aware': 821,\n",
       " 'forgotten': 822,\n",
       " 'threw': 823,\n",
       " 'reply': 824,\n",
       " 'later': 825,\n",
       " 'tonight': 826,\n",
       " 'straight': 827,\n",
       " 'spite': 828,\n",
       " 'placed': 829,\n",
       " 'private': 830,\n",
       " 'fresh': 831,\n",
       " 'passion': 832,\n",
       " 'tired': 833,\n",
       " 'laughing': 834,\n",
       " 'outside': 835,\n",
       " 'school': 836,\n",
       " 'spirits': 837,\n",
       " 'court': 838,\n",
       " 'evil': 839,\n",
       " 'remembered': 840,\n",
       " 'latter': 841,\n",
       " 'force': 842,\n",
       " 'altogether': 843,\n",
       " 'follow': 844,\n",
       " 'peace': 845,\n",
       " 'fast': 846,\n",
       " 'situation': 847,\n",
       " 'glass': 848,\n",
       " 'shes': 849,\n",
       " 'steps': 850,\n",
       " 'believed': 851,\n",
       " 'pity': 852,\n",
       " 'reading': 853,\n",
       " 'tall': 854,\n",
       " 'oclock': 855,\n",
       " 'paid': 856,\n",
       " 'filled': 857,\n",
       " 'notice': 858,\n",
       " 'seat': 859,\n",
       " 'pride': 860,\n",
       " 'fingers': 861,\n",
       " 'wall': 862,\n",
       " 'neck': 863,\n",
       " 'shoulder': 864,\n",
       " 'especially': 865,\n",
       " 'noble': 866,\n",
       " 'considered': 867,\n",
       " 'simple': 868,\n",
       " 'understood': 869,\n",
       " 'walking': 870,\n",
       " 'summer': 871,\n",
       " 'quietly': 872,\n",
       " 'french': 873,\n",
       " 'nobody': 874,\n",
       " 'speech': 875,\n",
       " 'village': 876,\n",
       " 'opportunity': 877,\n",
       " 'weeks': 878,\n",
       " 'id': 879,\n",
       " 'touch': 880,\n",
       " 'afterwards': 881,\n",
       " 'youve': 882,\n",
       " 'sky': 883,\n",
       " 'waited': 884,\n",
       " 'beneath': 885,\n",
       " 'warm': 886,\n",
       " 'listened': 887,\n",
       " 'obliged': 888,\n",
       " 'gentle': 889,\n",
       " 'conduct': 890,\n",
       " 'whispered': 891,\n",
       " 'following': 892,\n",
       " 'gentlemen': 893,\n",
       " 'former': 894,\n",
       " 'watching': 895,\n",
       " 'sad': 896,\n",
       " 'twenty': 897,\n",
       " 'em': 898,\n",
       " 'unless': 899,\n",
       " 'surprised': 900,\n",
       " 'allowed': 901,\n",
       " 'fortune': 902,\n",
       " 'gold': 903,\n",
       " 'law': 904,\n",
       " 'meeting': 905,\n",
       " 'servant': 906,\n",
       " 'grand': 907,\n",
       " 'yours': 908,\n",
       " 'effort': 909,\n",
       " 'below': 910,\n",
       " 'single': 911,\n",
       " 'respect': 912,\n",
       " 'hung': 913,\n",
       " 'easily': 914,\n",
       " 'proud': 915,\n",
       " 'learned': 916,\n",
       " 'everybody': 917,\n",
       " 'carry': 918,\n",
       " 'plain': 919,\n",
       " 'memory': 920,\n",
       " 'listen': 921,\n",
       " 'pray': 922,\n",
       " 'nice': 923,\n",
       " 'passing': 924,\n",
       " 'vain': 925,\n",
       " 'safe': 926,\n",
       " 'handsome': 927,\n",
       " 'lucy': 928,\n",
       " 'wrote': 929,\n",
       " 'holding': 930,\n",
       " 'darkness': 931,\n",
       " 'acquaintance': 932,\n",
       " 'dropped': 933,\n",
       " 'picture': 934,\n",
       " 'opposite': 935,\n",
       " 'flowers': 936,\n",
       " 'begin': 937,\n",
       " 'breakfast': 938,\n",
       " 'hell': 939,\n",
       " 'train': 940,\n",
       " 'simply': 941,\n",
       " 'settled': 942,\n",
       " 'aint': 943,\n",
       " 'ways': 944,\n",
       " 'mamma': 945,\n",
       " 'kindness': 946,\n",
       " '—': 947,\n",
       " 'duke': 948,\n",
       " 'fond': 949,\n",
       " 'offered': 950,\n",
       " 'anne': 951,\n",
       " 'honest': 952,\n",
       " 'confidence': 953,\n",
       " 'expect': 954,\n",
       " 'burst': 955,\n",
       " 'telling': 956,\n",
       " 'gate': 957,\n",
       " 'running': 958,\n",
       " 'fit': 959,\n",
       " 'conscious': 960,\n",
       " 'evidently': 961,\n",
       " 'hill': 962,\n",
       " 'putting': 963,\n",
       " 'touched': 964,\n",
       " 'faith': 965,\n",
       " 'difficulty': 966,\n",
       " 'taste': 967,\n",
       " 'henry': 968,\n",
       " 'top': 969,\n",
       " 'bent': 970,\n",
       " 'sharp': 971,\n",
       " 'lie': 972,\n",
       " 'serious': 973,\n",
       " 'experience': 974,\n",
       " 'fallen': 975,\n",
       " 'clothes': 976,\n",
       " 'mistress': 977,\n",
       " 'stranger': 978,\n",
       " 'bound': 979,\n",
       " 'supposed': 980,\n",
       " 'break': 981,\n",
       " 'windows': 982,\n",
       " 'spent': 983,\n",
       " 'brown': 984,\n",
       " 'engaged': 985,\n",
       " 'learn': 986,\n",
       " 'lives': 987,\n",
       " 'major': 988,\n",
       " 'regard': 989,\n",
       " 'hot': 990,\n",
       " 'greater': 991,\n",
       " 'offer': 992,\n",
       " 'isabel': 993,\n",
       " 'drawingroom': 994,\n",
       " 'paused': 995,\n",
       " 'dog': 996,\n",
       " 'piece': 997,\n",
       " 'eat': 998,\n",
       " 'discovered': 999,\n",
       " ...}"
      ]
     },
     "execution_count": 40,
     "metadata": {},
     "output_type": "execute_result"
    }
   ],
   "source": [
    "# Dictionary of words in model\n",
    "\n",
    "model.wv.key_to_index"
   ]
  },
  {
   "cell_type": "code",
   "execution_count": 41,
   "metadata": {
    "tags": []
   },
   "outputs": [
    {
     "data": {
      "text/plain": [
       "21207"
      ]
     },
     "execution_count": 41,
     "metadata": {},
     "output_type": "execute_result"
    }
   ],
   "source": [
    "# Visualizing the whole vocabulary would make it hard to read\n",
    "\n",
    "len(model.wv.key_to_index)"
   ]
  },
  {
   "cell_type": "code",
   "execution_count": 42,
   "metadata": {
    "tags": []
   },
   "outputs": [],
   "source": [
    "# For interpretability, we'll select words that already have a semantic relation\n",
    "\n",
    "her_tokens = [token for token,weight in model.wv.most_similar(positive=['she','her','hers','herself'], \\\n",
    "                                                       negative=['he','him','his','himself'], topn=50)]"
   ]
  },
  {
   "cell_type": "code",
   "execution_count": 43,
   "metadata": {
    "scrolled": true,
    "tags": []
   },
   "outputs": [
    {
     "data": {
      "text/plain": [
       "['emmeline',\n",
       " 'fragile',\n",
       " 'anne',\n",
       " 'lucy',\n",
       " 'feminine',\n",
       " 'helen',\n",
       " 'aunt',\n",
       " 'husbands',\n",
       " 'elizabeth',\n",
       " 'lizzie',\n",
       " 'eliza',\n",
       " 'jane',\n",
       " 'charms',\n",
       " 'womanly',\n",
       " 'fannys']"
      ]
     },
     "execution_count": 43,
     "metadata": {},
     "output_type": "execute_result"
    }
   ],
   "source": [
    "# Inspect list\n",
    "\n",
    "her_tokens[:15]"
   ]
  },
  {
   "cell_type": "code",
   "execution_count": 67,
   "metadata": {
    "tags": []
   },
   "outputs": [],
   "source": [
    "# Get the vector for each sampled word\n",
    "\n",
    "vectors = [model.wv.get_vector(word) for word in her_tokens] "
   ]
  },
  {
   "cell_type": "code",
   "execution_count": 68,
   "metadata": {
    "tags": []
   },
   "outputs": [
    {
     "data": {
      "text/plain": [
       "array([[0.0000000e+00, 6.7065799e-01, 2.9860598e-01, ..., 5.5758542e-01,\n",
       "        4.3537384e-01, 6.8068326e-01],\n",
       "       [6.7065799e-01, 1.7881393e-07, 6.7767775e-01, ..., 6.6315150e-01,\n",
       "        6.2754333e-01, 5.0760961e-01],\n",
       "       [2.9860598e-01, 6.7767775e-01, 1.7881393e-07, ..., 5.5500960e-01,\n",
       "        5.2723265e-01, 6.0195482e-01],\n",
       "       ...,\n",
       "       [5.5758542e-01, 6.6315150e-01, 5.5500960e-01, ..., 0.0000000e+00,\n",
       "        5.6054831e-01, 7.6545560e-01],\n",
       "       [4.3537384e-01, 6.2754333e-01, 5.2723265e-01, ..., 5.6054831e-01,\n",
       "        0.0000000e+00, 7.4005508e-01],\n",
       "       [6.8068326e-01, 5.0760961e-01, 6.0195482e-01, ..., 7.6545560e-01,\n",
       "        7.4005508e-01, 0.0000000e+00]], dtype=float32)"
      ]
     },
     "execution_count": 68,
     "metadata": {},
     "output_type": "execute_result"
    }
   ],
   "source": [
    "# Calculate distances among texts in vector space\n",
    "\n",
    "dist_matrix = pairwise.pairwise_distances(vectors, metric='cosine')\n",
    "dist_matrix"
   ]
  },
  {
   "cell_type": "code",
   "execution_count": 46,
   "metadata": {
    "tags": []
   },
   "outputs": [
    {
     "name": "stderr",
     "output_type": "stream",
     "text": [
      "/Users/angela/miniconda3/lib/python3.10/site-packages/sklearn/manifold/_mds.py:298: FutureWarning: The default value of `normalized_stress` will change to `'auto'` in version 1.4. To suppress this warning, manually set the value of `normalized_stress`.\n",
      "  warnings.warn(\n"
     ]
    }
   ],
   "source": [
    "# Multi-Dimensional Scaling (Project vectors into 2-D)\n",
    "\n",
    "mds = MDS(n_components = 2, dissimilarity='precomputed')\n",
    "embeddings = mds.fit_transform(dist_matrix)"
   ]
  },
  {
   "cell_type": "code",
   "execution_count": 47,
   "metadata": {
    "tags": []
   },
   "outputs": [
    {
     "data": {
      "image/png": "[encoded data removed]",
      "text/plain": [
       "<Figure size 1000x1000 with 1 Axes>"
      ]
     },
     "metadata": {},
     "output_type": "display_data"
    }
   ],
   "source": [
    "# Make a pretty graph\n",
    "\n",
    "_, ax = plt.subplots(figsize=(10,10))\n",
    "ax.scatter(embeddings[:,0], embeddings[:,1], alpha=0)\n",
    "for i in range(len(vectors)):\n",
    "    ax.annotate(her_tokens[i], ((embeddings[i,0], embeddings[i,1])))"
   ]
  },
  {
   "cell_type": "code",
   "execution_count": 48,
   "metadata": {
    "tags": []
   },
   "outputs": [
    {
     "name": "stderr",
     "output_type": "stream",
     "text": [
      "/Users/angela/miniconda3/lib/python3.10/site-packages/sklearn/manifold/_mds.py:298: FutureWarning: The default value of `normalized_stress` will change to `'auto'` in version 1.4. To suppress this warning, manually set the value of `normalized_stress`.\n",
      "  warnings.warn(\n"
     ]
    },
    {
     "data": {
      "image/png": "[encoded data removed]",
      "text/plain": [
       "<Figure size 1000x1000 with 1 Axes>"
      ]
     },
     "metadata": {},
     "output_type": "display_data"
    }
   ],
   "source": [
    "# For comparison, here is the same graph using a masculine-pronoun vector\n",
    "\n",
    "his_tokens = [token for token,weight in model.wv.most_similar(positive=['he','him','his','himself'], \\\n",
    "                                                       negative=['she','her','hers','herself'], topn=50)]\n",
    "vectors = [model.wv.get_vector(word) for word in his_tokens]\n",
    "dist_matrix = pairwise.pairwise_distances(vectors, metric='cosine')\n",
    "mds = MDS(n_components = 2, dissimilarity='precomputed')\n",
    "embeddings = mds.fit_transform(dist_matrix)\n",
    "_, ax = plt.subplots(figsize=(10,10))\n",
    "ax.scatter(embeddings[:,0], embeddings[:,1], alpha=0)\n",
    "for i in range(len(vectors)):\n",
    "    ax.annotate(his_tokens[i], ((embeddings[i,0], embeddings[i,1])))"
   ]
  },
  {
   "cell_type": "markdown",
   "metadata": {},
   "source": [
    "Q. What kinds of semantic relationships exist in the diagram above?\n",
    "\n",
    "Are there any words that seem out of place?"
   ]
  },
  {
   "cell_type": "markdown",
   "metadata": {},
   "source": [
    "# 3. Saving/Loading Models"
   ]
  },
  {
   "cell_type": "code",
   "execution_count": 49,
   "metadata": {
    "tags": []
   },
   "outputs": [],
   "source": [
    "# Save current model for later use\n",
    "\n",
    "model.wv.save_word2vec_format('resources/word2vec.txtlab_Novel150_English.txt')\n",
    "#model.save_word2vec_format('resources/word2vec.txtlab_Novel150_English.txt') # deprecated"
   ]
  },
  {
   "cell_type": "code",
   "execution_count": 50,
   "metadata": {
    "tags": []
   },
   "outputs": [],
   "source": [
    "# Load up models from disk\n",
    "\n",
    "# Model trained on Eighteenth Century Collections Online corpus (~2500 texts)\n",
    "# Made available by Ryan Heuser: http://ryanheuser.org/word-vectors-1/\n",
    "\n",
    "ecco_model = gensim.models.KeyedVectors.load_word2vec_format('resources/word2vec.ECCO-TCP.txt')\n",
    "#ecco_model = gensim.models.Word2Vec.load_word2vec_format('resources/word2vec.ECCO-TCP.txt') # deprecated"
   ]
  },
  {
   "cell_type": "code",
   "execution_count": 51,
   "metadata": {
    "tags": []
   },
   "outputs": [
    {
     "data": {
      "text/plain": [
       "[('ground', 0.657000720500946),\n",
       " ('turf', 0.6564096808433533),\n",
       " ('surface', 0.6480724811553955),\n",
       " ('declivity', 0.642420768737793),\n",
       " ('hill', 0.637111485004425),\n",
       " ('bridge', 0.6332241296768188),\n",
       " ('terrace', 0.6301186680793762),\n",
       " ('channel', 0.629577100276947),\n",
       " ('banks', 0.629473865032196),\n",
       " ('wall', 0.6289102435112)]"
      ]
     },
     "execution_count": 51,
     "metadata": {},
     "output_type": "execute_result"
    }
   ],
   "source": [
    "# What are similar words to BANK?\n",
    "\n",
    "ecco_model.most_similar('bank')"
   ]
  },
  {
   "cell_type": "code",
   "execution_count": 52,
   "metadata": {
    "tags": []
   },
   "outputs": [
    {
     "data": {
      "text/plain": [
       "[('currency', 0.36714258790016174),\n",
       " ('suit', 0.35922905802726746),\n",
       " ('stamp', 0.3582037687301636),\n",
       " ('promissory', 0.35605302453041077),\n",
       " ('pension', 0.35183218121528625),\n",
       " ('blank', 0.3518177568912506),\n",
       " ('payable', 0.34270504117012024),\n",
       " ('mortality', 0.3426245450973511),\n",
       " ('weekly', 0.34080609679222107),\n",
       " ('weal', 0.3309360146522522)]"
      ]
     },
     "execution_count": 52,
     "metadata": {},
     "output_type": "execute_result"
    }
   ],
   "source": [
    "# What if we remove the sense of \"river bank\"?\n",
    "\n",
    "ecco_model.most_similar(positive=['bank'], negative=['river'])"
   ]
  },
  {
   "cell_type": "markdown",
   "metadata": {},
   "source": [
    "## Exercises!"
   ]
  },
  {
   "cell_type": "code",
   "execution_count": 53,
   "metadata": {
    "tags": []
   },
   "outputs": [
    {
     "data": {
      "text/plain": [
       "[('hansom', 0.7916545867919922),\n",
       " ('tram', 0.7584871053695679),\n",
       " ('team', 0.75579434633255),\n",
       " ('wagon', 0.7412554025650024),\n",
       " ('ferryboat', 0.7369030117988586),\n",
       " ('buggy', 0.7345541715621948),\n",
       " ('bus', 0.7344121336936951),\n",
       " ('carryall', 0.732768714427948),\n",
       " ('cab', 0.7283746600151062),\n",
       " ('truck', 0.7254972457885742)]"
      ]
     },
     "execution_count": 53,
     "metadata": {},
     "output_type": "execute_result"
    }
   ],
   "source": [
    "## EX. Use the most_similar method to find the tokens nearest to 'car' in either model.\n",
    "##     Do the same for 'motorcar'.\n",
    "\n",
    "## Q.  What characterizes these two words inthe corpus? Does this make sense?\n",
    "\n",
    "model.wv.most_similar('car')"
   ]
  },
  {
   "cell_type": "code",
   "execution_count": 54,
   "metadata": {
    "tags": []
   },
   "outputs": [
    {
     "data": {
      "text/plain": [
       "[('saucepan', 0.7595863938331604),\n",
       " ('steamed', 0.755942702293396),\n",
       " ('shack', 0.7547856569290161),\n",
       " ('scullery', 0.7535364031791687),\n",
       " ('pail', 0.7527008056640625),\n",
       " ('ferryboat', 0.7506797313690186),\n",
       " ('skiff', 0.7490808963775635),\n",
       " ('jewellers', 0.745529055595398),\n",
       " ('carahers', 0.7435512542724609),\n",
       " ('jingled', 0.7416866421699524)]"
      ]
     },
     "execution_count": 54,
     "metadata": {},
     "output_type": "execute_result"
    }
   ],
   "source": [
    "model.wv.most_similar('motorcar')"
   ]
  },
  {
   "cell_type": "code",
   "execution_count": 55,
   "metadata": {
    "tags": []
   },
   "outputs": [
    {
     "data": {
      "text/plain": [
       "[('italy', 0.7666966319084167),\n",
       " ('germany', 0.7548961639404297),\n",
       " ('greece', 0.6732473373413086),\n",
       " ('france', 0.6684234738349915),\n",
       " ('america', 0.6642230153083801),\n",
       " ('england', 0.6536044478416443),\n",
       " ('europe', 0.6482828855514526),\n",
       " ('india', 0.62784343957901),\n",
       " ('rome', 0.6122703552246094),\n",
       " ('persia', 0.5902167558670044)]"
      ]
     },
     "execution_count": 55,
     "metadata": {},
     "output_type": "execute_result"
    }
   ],
   "source": [
    "## EX. How does our model answer the analogy: MADRID is to SPAIN as PARIS is to __________\n",
    "\n",
    "## Q.  What has our model learned about nation-states?\n",
    "\n",
    "\n",
    "model.wv.most_similar(positive=['paris', 'spain'], negative = ['madrid'])"
   ]
  },
  {
   "cell_type": "code",
   "execution_count": 56,
   "metadata": {
    "tags": []
   },
   "outputs": [
    {
     "data": {
      "text/plain": [
       "[('emmeline', 0.4613833725452423),\n",
       " ('jane', 0.44158676266670227),\n",
       " ('ethel', 0.4301283359527588),\n",
       " ('maid', 0.4259932041168213),\n",
       " ('charms', 0.42520514130592346),\n",
       " ('louisa', 0.4157273769378662),\n",
       " ('eliza', 0.41225242614746094),\n",
       " ('aunt', 0.4076521396636963),\n",
       " ('gowns', 0.40429073572158813),\n",
       " ('lucy', 0.40420451760292053)]"
      ]
     },
     "execution_count": 56,
     "metadata": {},
     "output_type": "execute_result"
    }
   ],
   "source": [
    "## EX. Perform the canonic Word2Vec addition again but leave out a term:\n",
    "##     Try 'king' - 'man', 'woman' - 'man', 'woman' + 'king'\n",
    "\n",
    "## Q.  What do these indicate semantically?\n",
    "\n",
    "model.wv.most_similar(positive= ['woman'], negative=['man'])"
   ]
  },
  {
   "cell_type": "code",
   "execution_count": 57,
   "metadata": {
    "tags": []
   },
   "outputs": [],
   "source": [
    "## EX. Heuser's blog post explores an analogy in eighteenth-century thought that\n",
    "##     RICHES are to VIRTUE what LEARNING is to GENIUS. How true is this in\n",
    "##     the ECCO-trained Word2Vec model? Is it true in the one we trained?\n",
    "\n",
    "##  Q. How might we compare word2vec models more generally?\n"
   ]
  },
  {
   "cell_type": "code",
   "execution_count": 58,
   "metadata": {
    "tags": []
   },
   "outputs": [
    {
     "data": {
      "text/plain": [
       "[('piety', 0.7372761964797974),\n",
       " ('morality', 0.7266899943351746),\n",
       " ('science', 0.6974709630012512),\n",
       " ('prudence', 0.6855395436286926),\n",
       " ('philosophy', 0.683079183101654),\n",
       " ('wisdom', 0.6511391997337341),\n",
       " ('genius', 0.6505820155143738),\n",
       " ('humanity', 0.640283465385437),\n",
       " ('modesty', 0.6369403004646301),\n",
       " ('morals', 0.6340599060058594)]"
      ]
     },
     "execution_count": 58,
     "metadata": {},
     "output_type": "execute_result"
    }
   ],
   "source": [
    "# ECCO model: RICHES are to VIRTUE what LEARNING is to ??\n",
    "\n",
    "ecco_model.most_similar(positive=['learning', 'virtue'], negative=['riches'])"
   ]
  },
  {
   "cell_type": "code",
   "execution_count": 59,
   "metadata": {
    "scrolled": true,
    "tags": []
   },
   "outputs": [
    {
     "data": {
      "text/plain": [
       "[('teaching', 0.6103702187538147),\n",
       " ('literal', 0.5843766331672668),\n",
       " ('poetry', 0.569068193435669),\n",
       " ('mathematics', 0.5656746625900269),\n",
       " ('moralist', 0.563969075679779),\n",
       " ('yankee', 0.5564850568771362),\n",
       " ('critic', 0.5527565479278564),\n",
       " ('logic', 0.5465735793113708),\n",
       " ('jargon', 0.5463364124298096),\n",
       " ('literature', 0.5447049140930176)]"
      ]
     },
     "execution_count": 59,
     "metadata": {},
     "output_type": "execute_result"
    }
   ],
   "source": [
    "# txtLab model: RICHES are to VIRTUE what LEARNING is to ??\n",
    "model.wv.most_similar(positive=['learning', 'virtue'], negative=['riches'])"
   ]
  },
  {
   "cell_type": "markdown",
   "metadata": {},
   "source": [
    "# 4. Open Questions\n",
    "At this point, we have seen a number of mathemetical operations that we may use to explore word2vec's word embeddings. These enable us to answer a set of new, interesting questions dealing with semantics, yet there are many other questions that remain unanswered.\n",
    "\n",
    "For example:\n",
    "<ol>\n",
    "<li>How to compare word usages in different texts (within the same model)?</li>\n",
    "<li>How to compare word meanings in different models? compare whole models?</li>\n",
    "<li>What about the space “in between” words?</li>\n",
    "<li>Do we agree with the Distributional Hypothesis that words with the same contexts share their meanings?</li>\n",
    "<ol><li>If not, then what information do we think is encoded in a word’s context?</li></ol>\n",
    "<li>What good, humanistic research questions do analogies shed light on?</li>\n",
    "<ol><li>shades of meaning?</li><li>context similarity?</li></ol>\n",
    "</ol>"
   ]
  },
  {
   "cell_type": "code",
   "execution_count": null,
   "metadata": {},
   "outputs": [],
   "source": []
  },
  {
   "cell_type": "code",
   "execution_count": null,
   "metadata": {},
   "outputs": [],
   "source": []
  }
 ],
 "metadata": {
  "kernelspec": {
   "display_name": "Python 3 (ipykernel)",
   "language": "python",
   "name": "python3"
  },
  "language_info": {
   "codemirror_mode": {
    "name": "ipython",
    "version": 3
   },
   "file_extension": ".py",
   "mimetype": "text/x-python",
   "name": "python",
   "nbconvert_exporter": "python",
   "pygments_lexer": "ipython3",
   "version": "3.10.6"
  }
 },
 "nbformat": 4,
 "nbformat_minor": 4
}
